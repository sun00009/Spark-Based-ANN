{
  "cells": [
    {
      "cell_type": "code",
      "source": [
        "pip install pyspark"
      ],
      "metadata": {
        "colab": {
          "base_uri": "https://localhost:8080/"
        },
        "id": "JxqzDX0gGU19",
        "outputId": "1f38ad2b-efc1-4b63-9fe6-6db3df03a5c4"
      },
      "execution_count": 2,
      "outputs": [
        {
          "output_type": "stream",
          "name": "stdout",
          "text": [
            "Looking in indexes: https://pypi.org/simple, https://us-python.pkg.dev/colab-wheels/public/simple/\n",
            "Collecting pyspark\n",
            "  Downloading pyspark-3.3.0.tar.gz (281.3 MB)\n",
            "\u001b[K     |████████████████████████████████| 281.3 MB 39 kB/s \n",
            "\u001b[?25hCollecting py4j==0.10.9.5\n",
            "  Downloading py4j-0.10.9.5-py2.py3-none-any.whl (199 kB)\n",
            "\u001b[K     |████████████████████████████████| 199 kB 69.9 MB/s \n",
            "\u001b[?25hBuilding wheels for collected packages: pyspark\n",
            "  Building wheel for pyspark (setup.py) ... \u001b[?25l\u001b[?25hdone\n",
            "  Created wheel for pyspark: filename=pyspark-3.3.0-py2.py3-none-any.whl size=281764026 sha256=7af4e97160ff6f35657c42df3bd195bb1891ca07d5161f46137a9185323734e1\n",
            "  Stored in directory: /root/.cache/pip/wheels/7a/8e/1b/f73a52650d2e5f337708d9f6a1750d451a7349a867f928b885\n",
            "Successfully built pyspark\n",
            "Installing collected packages: py4j, pyspark\n",
            "Successfully installed py4j-0.10.9.5 pyspark-3.3.0\n"
          ]
        }
      ]
    },
    {
      "cell_type": "code",
      "execution_count": 3,
      "metadata": {
        "id": "aB7abLOdJwAo"
      },
      "outputs": [],
      "source": [
        "import pyspark\n",
        "from pyspark import *\n",
        "from pyspark.sql.functions import *\n",
        "from pyspark.sql import *\n",
        "from pyspark import SparkContext, SparkConf"
      ]
    },
    {
      "cell_type": "code",
      "execution_count": 4,
      "metadata": {
        "id": "ms1OBF2MJwDA",
        "colab": {
          "base_uri": "https://localhost:8080/"
        },
        "outputId": "60505505-7278-4c94-dde6-75b92476276c"
      },
      "outputs": [
        {
          "output_type": "stream",
          "name": "stderr",
          "text": [
            "/usr/local/lib/python3.7/dist-packages/pyspark/sql/context.py:114: FutureWarning: Deprecated in 3.0.0. Use SparkSession.builder.getOrCreate() instead.\n",
            "  FutureWarning,\n"
          ]
        }
      ],
      "source": [
        "conf = SparkConf().setAppName('Elephas_Test').setMaster('local[8]')\n",
        "sc = SparkContext(conf=conf)\n",
        "spark = SQLContext(sc)"
      ]
    },
    {
      "cell_type": "code",
      "execution_count": 5,
      "metadata": {
        "id": "z4vCZ8ViJwFf"
      },
      "outputs": [],
      "source": [
        "import os \n",
        "import numpy as np\n",
        "import pandas as pd\n",
        "from glob import glob\n",
        "from tqdm import tqdm"
      ]
    },
    {
      "cell_type": "code",
      "execution_count": 6,
      "metadata": {
        "id": "tegllC29JwHq"
      },
      "outputs": [],
      "source": [
        "from google.colab import drive\n",
        "from google.cloud import storage"
      ]
    },
    {
      "cell_type": "code",
      "execution_count": 7,
      "metadata": {
        "id": "XVsKL8MNJwKH"
      },
      "outputs": [],
      "source": [
        "os.environ[\"GOOGLE_CLOUD_PROJECT\"] = 'pyspark_ann'\n",
        "os.environ[\"TF_CPP_MIN_LOG_LEVEL\"] = \"2\""
      ]
    },
    {
      "cell_type": "code",
      "execution_count": 8,
      "metadata": {
        "id": "s0I2Q921JwOo"
      },
      "outputs": [],
      "source": [
        "storage_client = storage.Client(project='pyspark_ann')"
      ]
    },
    {
      "cell_type": "code",
      "execution_count": 9,
      "metadata": {
        "colab": {
          "base_uri": "https://localhost:8080/"
        },
        "id": "uflv--hxJwRL",
        "outputId": "a7b1fd4d-7211-4066-93f9-103c2f93adac"
      },
      "outputs": [
        {
          "output_type": "stream",
          "name": "stdout",
          "text": [
            "Mounted at consumer_complaint\n"
          ]
        }
      ],
      "source": [
        "drive.mount('consumer_complaint',force_remount=True)"
      ]
    },
    {
      "cell_type": "code",
      "execution_count": 10,
      "metadata": {
        "id": "zfnYkzQgJwTr"
      },
      "outputs": [],
      "source": [
        "data_path = '/content/consumer_complaint/MyDrive/consumer_complaint'"
      ]
    },
    {
      "cell_type": "code",
      "execution_count": 11,
      "metadata": {
        "id": "M811UGAVJwV_"
      },
      "outputs": [],
      "source": [
        "import zipfile\n",
        "import plotly.express as pe"
      ]
    },
    {
      "cell_type": "code",
      "execution_count": 12,
      "metadata": {
        "id": "H75QGdVHMPiR"
      },
      "outputs": [],
      "source": [
        "import warnings\n",
        "warnings.filterwarnings('ignore')"
      ]
    },
    {
      "cell_type": "code",
      "execution_count": 13,
      "metadata": {
        "id": "KDEnppZ3JwYk"
      },
      "outputs": [],
      "source": [
        "archive = zipfile.ZipFile(data_path + '/' + 'archive_2.zip','r')"
      ]
    },
    {
      "cell_type": "code",
      "execution_count": 14,
      "metadata": {
        "id": "rX3uS3_BJwaq"
      },
      "outputs": [],
      "source": [
        "data_archive = archive.open('rows.csv')"
      ]
    },
    {
      "cell_type": "code",
      "execution_count": 15,
      "metadata": {
        "id": "cd6UIWvTJwdc"
      },
      "outputs": [],
      "source": [
        "dataset = pd.read_csv(data_archive)"
      ]
    },
    {
      "cell_type": "code",
      "execution_count": 16,
      "metadata": {
        "colab": {
          "base_uri": "https://localhost:8080/",
          "height": 973
        },
        "id": "RP9Mu3IjL1gB",
        "outputId": "9e7e2abb-6af3-4c82-cef0-bfa6f6c2ffed"
      },
      "outputs": [
        {
          "output_type": "execute_result",
          "data": {
            "text/plain": [
              "        Date received                                            Product  \\\n",
              "0          05/10/2019                        Checking or savings account   \n",
              "1          05/10/2019                        Checking or savings account   \n",
              "2          05/10/2019                                    Debt collection   \n",
              "3          05/10/2019  Credit reporting, credit repair services, or o...   \n",
              "4          05/10/2019                        Checking or savings account   \n",
              "...               ...                                                ...   \n",
              "1282350    12/01/2011                                        Credit card   \n",
              "1282351    12/01/2011                                           Mortgage   \n",
              "1282352    12/01/2011                                        Credit card   \n",
              "1282353    12/01/2011                                           Mortgage   \n",
              "1282354    12/01/2011                                        Credit card   \n",
              "\n",
              "                                    Sub-product  \\\n",
              "0                              Checking account   \n",
              "1              Other banking product or service   \n",
              "2                              Payday loan debt   \n",
              "3                              Credit reporting   \n",
              "4                              Checking account   \n",
              "...                                         ...   \n",
              "1282350                                     NaN   \n",
              "1282351             Conventional fixed mortgage   \n",
              "1282352                                     NaN   \n",
              "1282353  Conventional adjustable mortgage (ARM)   \n",
              "1282354                                     NaN   \n",
              "\n",
              "                                            Issue  \\\n",
              "0                             Managing an account   \n",
              "1                             Managing an account   \n",
              "2                           Communication tactics   \n",
              "3            Incorrect information on your report   \n",
              "4                             Managing an account   \n",
              "...                                           ...   \n",
              "1282350                      Credit determination   \n",
              "1282351  Loan modification,collection,foreclosure   \n",
              "1282352                          Billing disputes   \n",
              "1282353  Loan servicing, payments, escrow account   \n",
              "1282354                          Billing disputes   \n",
              "\n",
              "                                            Sub-issue  \\\n",
              "0                   Problem using a debit or ATM card   \n",
              "1                            Deposits and withdrawals   \n",
              "2                          Frequent or repeated calls   \n",
              "3        Old information reappears or never goes away   \n",
              "4                                      Banking errors   \n",
              "...                                               ...   \n",
              "1282350                                           NaN   \n",
              "1282351                                           NaN   \n",
              "1282352                                           NaN   \n",
              "1282353                                           NaN   \n",
              "1282354                                           NaN   \n",
              "\n",
              "        Consumer complaint narrative Company public response  \\\n",
              "0                                NaN                     NaN   \n",
              "1                                NaN                     NaN   \n",
              "2                                NaN                     NaN   \n",
              "3                                NaN                     NaN   \n",
              "4                                NaN                     NaN   \n",
              "...                              ...                     ...   \n",
              "1282350                          NaN                     NaN   \n",
              "1282351                          NaN                     NaN   \n",
              "1282352                          NaN                     NaN   \n",
              "1282353                          NaN                     NaN   \n",
              "1282354                          NaN                     NaN   \n",
              "\n",
              "                                       Company State ZIP code            Tags  \\\n",
              "0                    NAVY FEDERAL CREDIT UNION    FL    328XX  Older American   \n",
              "1                BOEING EMPLOYEES CREDIT UNION    WA    98204             NaN   \n",
              "2                   CURO Intermediate Holdings    TX    751XX             NaN   \n",
              "3               Ad Astra Recovery Services Inc    LA    708XX             NaN   \n",
              "4                          ALLY FINANCIAL INC.    AZ    85205             NaN   \n",
              "...                                        ...   ...      ...             ...   \n",
              "1282350                         CITIBANK, N.A.    MO    63301             NaN   \n",
              "1282351  BANK OF AMERICA, NATIONAL ASSOCIATION    OH    45248             NaN   \n",
              "1282352                   JPMORGAN CHASE & CO.    OH    43207             NaN   \n",
              "1282353  BANK OF AMERICA, NATIONAL ASSOCIATION    CO    80920             NaN   \n",
              "1282354                         CITIBANK, N.A.    WA    98275             NaN   \n",
              "\n",
              "        Consumer consent provided? Submitted via Date sent to company  \\\n",
              "0                              NaN           Web           05/10/2019   \n",
              "1                              NaN      Referral           05/10/2019   \n",
              "2                              NaN           Web           05/10/2019   \n",
              "3                              NaN           Web           05/10/2019   \n",
              "4                              NaN   Postal mail           05/10/2019   \n",
              "...                            ...           ...                  ...   \n",
              "1282350                        NaN           Web           12/02/2011   \n",
              "1282351                        NaN           Web           12/06/2011   \n",
              "1282352                        NaN      Referral           12/01/2011   \n",
              "1282353                        NaN           Web           12/01/2011   \n",
              "1282354                        NaN           Web           12/11/2011   \n",
              "\n",
              "        Company response to consumer Timely response? Consumer disputed?  \\\n",
              "0                        In progress              Yes                NaN   \n",
              "1            Closed with explanation              Yes                NaN   \n",
              "2            Closed with explanation              Yes                NaN   \n",
              "3            Closed with explanation              Yes                NaN   \n",
              "4                        In progress              Yes                NaN   \n",
              "...                              ...              ...                ...   \n",
              "1282350           Closed with relief              Yes                 No   \n",
              "1282351        Closed without relief               No                 No   \n",
              "1282352           Closed with relief              Yes                 No   \n",
              "1282353           Closed with relief              Yes                 No   \n",
              "1282354           Closed with relief              Yes                 No   \n",
              "\n",
              "         Complaint ID  \n",
              "0             3238275  \n",
              "1             3238228  \n",
              "2             3237964  \n",
              "3             3238479  \n",
              "4             3238460  \n",
              "...               ...  \n",
              "1282350          2396  \n",
              "1282351          2323  \n",
              "1282352          2126  \n",
              "1282353          2315  \n",
              "1282354          2329  \n",
              "\n",
              "[1282355 rows x 18 columns]"
            ],
            "text/html": [
              "\n",
              "  <div id=\"df-5cc16c66-9ad0-4ba4-b14b-be8b5954a463\">\n",
              "    <div class=\"colab-df-container\">\n",
              "      <div>\n",
              "<style scoped>\n",
              "    .dataframe tbody tr th:only-of-type {\n",
              "        vertical-align: middle;\n",
              "    }\n",
              "\n",
              "    .dataframe tbody tr th {\n",
              "        vertical-align: top;\n",
              "    }\n",
              "\n",
              "    .dataframe thead th {\n",
              "        text-align: right;\n",
              "    }\n",
              "</style>\n",
              "<table border=\"1\" class=\"dataframe\">\n",
              "  <thead>\n",
              "    <tr style=\"text-align: right;\">\n",
              "      <th></th>\n",
              "      <th>Date received</th>\n",
              "      <th>Product</th>\n",
              "      <th>Sub-product</th>\n",
              "      <th>Issue</th>\n",
              "      <th>Sub-issue</th>\n",
              "      <th>Consumer complaint narrative</th>\n",
              "      <th>Company public response</th>\n",
              "      <th>Company</th>\n",
              "      <th>State</th>\n",
              "      <th>ZIP code</th>\n",
              "      <th>Tags</th>\n",
              "      <th>Consumer consent provided?</th>\n",
              "      <th>Submitted via</th>\n",
              "      <th>Date sent to company</th>\n",
              "      <th>Company response to consumer</th>\n",
              "      <th>Timely response?</th>\n",
              "      <th>Consumer disputed?</th>\n",
              "      <th>Complaint ID</th>\n",
              "    </tr>\n",
              "  </thead>\n",
              "  <tbody>\n",
              "    <tr>\n",
              "      <th>0</th>\n",
              "      <td>05/10/2019</td>\n",
              "      <td>Checking or savings account</td>\n",
              "      <td>Checking account</td>\n",
              "      <td>Managing an account</td>\n",
              "      <td>Problem using a debit or ATM card</td>\n",
              "      <td>NaN</td>\n",
              "      <td>NaN</td>\n",
              "      <td>NAVY FEDERAL CREDIT UNION</td>\n",
              "      <td>FL</td>\n",
              "      <td>328XX</td>\n",
              "      <td>Older American</td>\n",
              "      <td>NaN</td>\n",
              "      <td>Web</td>\n",
              "      <td>05/10/2019</td>\n",
              "      <td>In progress</td>\n",
              "      <td>Yes</td>\n",
              "      <td>NaN</td>\n",
              "      <td>3238275</td>\n",
              "    </tr>\n",
              "    <tr>\n",
              "      <th>1</th>\n",
              "      <td>05/10/2019</td>\n",
              "      <td>Checking or savings account</td>\n",
              "      <td>Other banking product or service</td>\n",
              "      <td>Managing an account</td>\n",
              "      <td>Deposits and withdrawals</td>\n",
              "      <td>NaN</td>\n",
              "      <td>NaN</td>\n",
              "      <td>BOEING EMPLOYEES CREDIT UNION</td>\n",
              "      <td>WA</td>\n",
              "      <td>98204</td>\n",
              "      <td>NaN</td>\n",
              "      <td>NaN</td>\n",
              "      <td>Referral</td>\n",
              "      <td>05/10/2019</td>\n",
              "      <td>Closed with explanation</td>\n",
              "      <td>Yes</td>\n",
              "      <td>NaN</td>\n",
              "      <td>3238228</td>\n",
              "    </tr>\n",
              "    <tr>\n",
              "      <th>2</th>\n",
              "      <td>05/10/2019</td>\n",
              "      <td>Debt collection</td>\n",
              "      <td>Payday loan debt</td>\n",
              "      <td>Communication tactics</td>\n",
              "      <td>Frequent or repeated calls</td>\n",
              "      <td>NaN</td>\n",
              "      <td>NaN</td>\n",
              "      <td>CURO Intermediate Holdings</td>\n",
              "      <td>TX</td>\n",
              "      <td>751XX</td>\n",
              "      <td>NaN</td>\n",
              "      <td>NaN</td>\n",
              "      <td>Web</td>\n",
              "      <td>05/10/2019</td>\n",
              "      <td>Closed with explanation</td>\n",
              "      <td>Yes</td>\n",
              "      <td>NaN</td>\n",
              "      <td>3237964</td>\n",
              "    </tr>\n",
              "    <tr>\n",
              "      <th>3</th>\n",
              "      <td>05/10/2019</td>\n",
              "      <td>Credit reporting, credit repair services, or o...</td>\n",
              "      <td>Credit reporting</td>\n",
              "      <td>Incorrect information on your report</td>\n",
              "      <td>Old information reappears or never goes away</td>\n",
              "      <td>NaN</td>\n",
              "      <td>NaN</td>\n",
              "      <td>Ad Astra Recovery Services Inc</td>\n",
              "      <td>LA</td>\n",
              "      <td>708XX</td>\n",
              "      <td>NaN</td>\n",
              "      <td>NaN</td>\n",
              "      <td>Web</td>\n",
              "      <td>05/10/2019</td>\n",
              "      <td>Closed with explanation</td>\n",
              "      <td>Yes</td>\n",
              "      <td>NaN</td>\n",
              "      <td>3238479</td>\n",
              "    </tr>\n",
              "    <tr>\n",
              "      <th>4</th>\n",
              "      <td>05/10/2019</td>\n",
              "      <td>Checking or savings account</td>\n",
              "      <td>Checking account</td>\n",
              "      <td>Managing an account</td>\n",
              "      <td>Banking errors</td>\n",
              "      <td>NaN</td>\n",
              "      <td>NaN</td>\n",
              "      <td>ALLY FINANCIAL INC.</td>\n",
              "      <td>AZ</td>\n",
              "      <td>85205</td>\n",
              "      <td>NaN</td>\n",
              "      <td>NaN</td>\n",
              "      <td>Postal mail</td>\n",
              "      <td>05/10/2019</td>\n",
              "      <td>In progress</td>\n",
              "      <td>Yes</td>\n",
              "      <td>NaN</td>\n",
              "      <td>3238460</td>\n",
              "    </tr>\n",
              "    <tr>\n",
              "      <th>...</th>\n",
              "      <td>...</td>\n",
              "      <td>...</td>\n",
              "      <td>...</td>\n",
              "      <td>...</td>\n",
              "      <td>...</td>\n",
              "      <td>...</td>\n",
              "      <td>...</td>\n",
              "      <td>...</td>\n",
              "      <td>...</td>\n",
              "      <td>...</td>\n",
              "      <td>...</td>\n",
              "      <td>...</td>\n",
              "      <td>...</td>\n",
              "      <td>...</td>\n",
              "      <td>...</td>\n",
              "      <td>...</td>\n",
              "      <td>...</td>\n",
              "      <td>...</td>\n",
              "    </tr>\n",
              "    <tr>\n",
              "      <th>1282350</th>\n",
              "      <td>12/01/2011</td>\n",
              "      <td>Credit card</td>\n",
              "      <td>NaN</td>\n",
              "      <td>Credit determination</td>\n",
              "      <td>NaN</td>\n",
              "      <td>NaN</td>\n",
              "      <td>NaN</td>\n",
              "      <td>CITIBANK, N.A.</td>\n",
              "      <td>MO</td>\n",
              "      <td>63301</td>\n",
              "      <td>NaN</td>\n",
              "      <td>NaN</td>\n",
              "      <td>Web</td>\n",
              "      <td>12/02/2011</td>\n",
              "      <td>Closed with relief</td>\n",
              "      <td>Yes</td>\n",
              "      <td>No</td>\n",
              "      <td>2396</td>\n",
              "    </tr>\n",
              "    <tr>\n",
              "      <th>1282351</th>\n",
              "      <td>12/01/2011</td>\n",
              "      <td>Mortgage</td>\n",
              "      <td>Conventional fixed mortgage</td>\n",
              "      <td>Loan modification,collection,foreclosure</td>\n",
              "      <td>NaN</td>\n",
              "      <td>NaN</td>\n",
              "      <td>NaN</td>\n",
              "      <td>BANK OF AMERICA, NATIONAL ASSOCIATION</td>\n",
              "      <td>OH</td>\n",
              "      <td>45248</td>\n",
              "      <td>NaN</td>\n",
              "      <td>NaN</td>\n",
              "      <td>Web</td>\n",
              "      <td>12/06/2011</td>\n",
              "      <td>Closed without relief</td>\n",
              "      <td>No</td>\n",
              "      <td>No</td>\n",
              "      <td>2323</td>\n",
              "    </tr>\n",
              "    <tr>\n",
              "      <th>1282352</th>\n",
              "      <td>12/01/2011</td>\n",
              "      <td>Credit card</td>\n",
              "      <td>NaN</td>\n",
              "      <td>Billing disputes</td>\n",
              "      <td>NaN</td>\n",
              "      <td>NaN</td>\n",
              "      <td>NaN</td>\n",
              "      <td>JPMORGAN CHASE &amp; CO.</td>\n",
              "      <td>OH</td>\n",
              "      <td>43207</td>\n",
              "      <td>NaN</td>\n",
              "      <td>NaN</td>\n",
              "      <td>Referral</td>\n",
              "      <td>12/01/2011</td>\n",
              "      <td>Closed with relief</td>\n",
              "      <td>Yes</td>\n",
              "      <td>No</td>\n",
              "      <td>2126</td>\n",
              "    </tr>\n",
              "    <tr>\n",
              "      <th>1282353</th>\n",
              "      <td>12/01/2011</td>\n",
              "      <td>Mortgage</td>\n",
              "      <td>Conventional adjustable mortgage (ARM)</td>\n",
              "      <td>Loan servicing, payments, escrow account</td>\n",
              "      <td>NaN</td>\n",
              "      <td>NaN</td>\n",
              "      <td>NaN</td>\n",
              "      <td>BANK OF AMERICA, NATIONAL ASSOCIATION</td>\n",
              "      <td>CO</td>\n",
              "      <td>80920</td>\n",
              "      <td>NaN</td>\n",
              "      <td>NaN</td>\n",
              "      <td>Web</td>\n",
              "      <td>12/01/2011</td>\n",
              "      <td>Closed with relief</td>\n",
              "      <td>Yes</td>\n",
              "      <td>No</td>\n",
              "      <td>2315</td>\n",
              "    </tr>\n",
              "    <tr>\n",
              "      <th>1282354</th>\n",
              "      <td>12/01/2011</td>\n",
              "      <td>Credit card</td>\n",
              "      <td>NaN</td>\n",
              "      <td>Billing disputes</td>\n",
              "      <td>NaN</td>\n",
              "      <td>NaN</td>\n",
              "      <td>NaN</td>\n",
              "      <td>CITIBANK, N.A.</td>\n",
              "      <td>WA</td>\n",
              "      <td>98275</td>\n",
              "      <td>NaN</td>\n",
              "      <td>NaN</td>\n",
              "      <td>Web</td>\n",
              "      <td>12/11/2011</td>\n",
              "      <td>Closed with relief</td>\n",
              "      <td>Yes</td>\n",
              "      <td>No</td>\n",
              "      <td>2329</td>\n",
              "    </tr>\n",
              "  </tbody>\n",
              "</table>\n",
              "<p>1282355 rows × 18 columns</p>\n",
              "</div>\n",
              "      <button class=\"colab-df-convert\" onclick=\"convertToInteractive('df-5cc16c66-9ad0-4ba4-b14b-be8b5954a463')\"\n",
              "              title=\"Convert this dataframe to an interactive table.\"\n",
              "              style=\"display:none;\">\n",
              "        \n",
              "  <svg xmlns=\"http://www.w3.org/2000/svg\" height=\"24px\"viewBox=\"0 0 24 24\"\n",
              "       width=\"24px\">\n",
              "    <path d=\"M0 0h24v24H0V0z\" fill=\"none\"/>\n",
              "    <path d=\"M18.56 5.44l.94 2.06.94-2.06 2.06-.94-2.06-.94-.94-2.06-.94 2.06-2.06.94zm-11 1L8.5 8.5l.94-2.06 2.06-.94-2.06-.94L8.5 2.5l-.94 2.06-2.06.94zm10 10l.94 2.06.94-2.06 2.06-.94-2.06-.94-.94-2.06-.94 2.06-2.06.94z\"/><path d=\"M17.41 7.96l-1.37-1.37c-.4-.4-.92-.59-1.43-.59-.52 0-1.04.2-1.43.59L10.3 9.45l-7.72 7.72c-.78.78-.78 2.05 0 2.83L4 21.41c.39.39.9.59 1.41.59.51 0 1.02-.2 1.41-.59l7.78-7.78 2.81-2.81c.8-.78.8-2.07 0-2.86zM5.41 20L4 18.59l7.72-7.72 1.47 1.35L5.41 20z\"/>\n",
              "  </svg>\n",
              "      </button>\n",
              "      \n",
              "  <style>\n",
              "    .colab-df-container {\n",
              "      display:flex;\n",
              "      flex-wrap:wrap;\n",
              "      gap: 12px;\n",
              "    }\n",
              "\n",
              "    .colab-df-convert {\n",
              "      background-color: #E8F0FE;\n",
              "      border: none;\n",
              "      border-radius: 50%;\n",
              "      cursor: pointer;\n",
              "      display: none;\n",
              "      fill: #1967D2;\n",
              "      height: 32px;\n",
              "      padding: 0 0 0 0;\n",
              "      width: 32px;\n",
              "    }\n",
              "\n",
              "    .colab-df-convert:hover {\n",
              "      background-color: #E2EBFA;\n",
              "      box-shadow: 0px 1px 2px rgba(60, 64, 67, 0.3), 0px 1px 3px 1px rgba(60, 64, 67, 0.15);\n",
              "      fill: #174EA6;\n",
              "    }\n",
              "\n",
              "    [theme=dark] .colab-df-convert {\n",
              "      background-color: #3B4455;\n",
              "      fill: #D2E3FC;\n",
              "    }\n",
              "\n",
              "    [theme=dark] .colab-df-convert:hover {\n",
              "      background-color: #434B5C;\n",
              "      box-shadow: 0px 1px 3px 1px rgba(0, 0, 0, 0.15);\n",
              "      filter: drop-shadow(0px 1px 2px rgba(0, 0, 0, 0.3));\n",
              "      fill: #FFFFFF;\n",
              "    }\n",
              "  </style>\n",
              "\n",
              "      <script>\n",
              "        const buttonEl =\n",
              "          document.querySelector('#df-5cc16c66-9ad0-4ba4-b14b-be8b5954a463 button.colab-df-convert');\n",
              "        buttonEl.style.display =\n",
              "          google.colab.kernel.accessAllowed ? 'block' : 'none';\n",
              "\n",
              "        async function convertToInteractive(key) {\n",
              "          const element = document.querySelector('#df-5cc16c66-9ad0-4ba4-b14b-be8b5954a463');\n",
              "          const dataTable =\n",
              "            await google.colab.kernel.invokeFunction('convertToInteractive',\n",
              "                                                     [key], {});\n",
              "          if (!dataTable) return;\n",
              "\n",
              "          const docLinkHtml = 'Like what you see? Visit the ' +\n",
              "            '<a target=\"_blank\" href=https://colab.research.google.com/notebooks/data_table.ipynb>data table notebook</a>'\n",
              "            + ' to learn more about interactive tables.';\n",
              "          element.innerHTML = '';\n",
              "          dataTable['output_type'] = 'display_data';\n",
              "          await google.colab.output.renderOutput(dataTable, element);\n",
              "          const docLink = document.createElement('div');\n",
              "          docLink.innerHTML = docLinkHtml;\n",
              "          element.appendChild(docLink);\n",
              "        }\n",
              "      </script>\n",
              "    </div>\n",
              "  </div>\n",
              "  "
            ]
          },
          "metadata": {},
          "execution_count": 16
        }
      ],
      "source": [
        "dataset"
      ]
    },
    {
      "cell_type": "code",
      "execution_count": 17,
      "metadata": {
        "colab": {
          "base_uri": "https://localhost:8080/"
        },
        "id": "_fPXIbBYL1lD",
        "outputId": "1d5c4966-96d0-49b0-e044-bcff65deff47"
      },
      "outputs": [
        {
          "output_type": "execute_result",
          "data": {
            "text/plain": [
              "Date received                         0\n",
              "Product                               0\n",
              "Sub-product                      235166\n",
              "Issue                                 0\n",
              "Sub-issue                        531186\n",
              "Consumer complaint narrative     898791\n",
              "Company public response          833273\n",
              "Company                               0\n",
              "State                             19400\n",
              "ZIP code                         115298\n",
              "Tags                            1106712\n",
              "Consumer consent provided?       591701\n",
              "Submitted via                         0\n",
              "Date sent to company                  0\n",
              "Company response to consumer          7\n",
              "Timely response?                      0\n",
              "Consumer disputed?               513854\n",
              "Complaint ID                          0\n",
              "dtype: int64"
            ]
          },
          "metadata": {},
          "execution_count": 17
        }
      ],
      "source": [
        "dataset.isnull().sum()"
      ]
    },
    {
      "cell_type": "code",
      "execution_count": 18,
      "metadata": {
        "id": "RmzZrAHXL1nT"
      },
      "outputs": [],
      "source": [
        "dataset = dataset.drop(columns=['Sub-issue','Consumer complaint narrative','Company public response',\n",
        "                                'State','ZIP code','Tags'])"
      ]
    },
    {
      "cell_type": "code",
      "execution_count": 19,
      "metadata": {
        "id": "FLwi3tVvL1pk"
      },
      "outputs": [],
      "source": [
        "dataset = dataset.fillna('Not known')"
      ]
    },
    {
      "cell_type": "code",
      "execution_count": 20,
      "metadata": {
        "id": "MxjvGLxnL1sI"
      },
      "outputs": [],
      "source": [
        "dataset_s = spark.createDataFrame(dataset)"
      ]
    },
    {
      "cell_type": "code",
      "execution_count": 21,
      "metadata": {
        "colab": {
          "base_uri": "https://localhost:8080/"
        },
        "id": "VeF6Z7aTL1uc",
        "outputId": "e40902e0-972a-4986-e33c-a8fe853a914d"
      },
      "outputs": [
        {
          "output_type": "stream",
          "name": "stdout",
          "text": [
            "+-------------+--------------------+--------------------+--------------------+--------------------+--------------------------+-------------+--------------------+----------------------------+----------------+------------------+------------+\n",
            "|Date received|             Product|         Sub-product|               Issue|             Company|Consumer consent provided?|Submitted via|Date sent to company|Company response to consumer|Timely response?|Consumer disputed?|Complaint ID|\n",
            "+-------------+--------------------+--------------------+--------------------+--------------------+--------------------------+-------------+--------------------+----------------------------+----------------+------------------+------------+\n",
            "|   05/10/2019|Checking or savin...|    Checking account| Managing an account|NAVY FEDERAL CRED...|                 Not known|          Web|          05/10/2019|                 In progress|             Yes|         Not known|     3238275|\n",
            "|   05/10/2019|Checking or savin...|Other banking pro...| Managing an account|BOEING EMPLOYEES ...|                 Not known|     Referral|          05/10/2019|        Closed with expla...|             Yes|         Not known|     3238228|\n",
            "|   05/10/2019|     Debt collection|    Payday loan debt|Communication tac...|CURO Intermediate...|                 Not known|          Web|          05/10/2019|        Closed with expla...|             Yes|         Not known|     3237964|\n",
            "|   05/10/2019|Credit reporting,...|    Credit reporting|Incorrect informa...|Ad Astra Recovery...|                 Not known|          Web|          05/10/2019|        Closed with expla...|             Yes|         Not known|     3238479|\n",
            "|   05/10/2019|Checking or savin...|    Checking account| Managing an account| ALLY FINANCIAL INC.|                 Not known|  Postal mail|          05/10/2019|                 In progress|             Yes|         Not known|     3238460|\n",
            "|   05/10/2019|            Mortgage|Other type of mor...|Closing on a mort...| Statebridge Company|                 Not known|          Web|          05/10/2019|        Closed with expla...|             Yes|         Not known|     3237885|\n",
            "|   05/10/2019|     Debt collection|          Other debt|Attempts to colle...|Diversified Consu...|                 Not known|          Web|          05/10/2019|                 In progress|             Yes|         Not known|     3238585|\n",
            "|   05/10/2019|        Student loan|Federal student l...|Struggling to rep...| Student Loan Direct|                 Not known|          Web|          05/10/2019|        Closed with expla...|             Yes|         Not known|     3238221|\n",
            "|   05/10/2019|     Debt collection|          Other debt|Attempts to colle...|Diversified Consu...|                 Not known|          Web|          05/10/2019|                 In progress|             Yes|         Not known|     3238545|\n",
            "|   05/10/2019|Credit reporting,...|    Credit reporting|Incorrect informa...|CONTRACT CALLERS INC|                 Not known|          Web|          05/10/2019|                 In progress|             Yes|         Not known|     3238458|\n",
            "|   05/10/2019|Vehicle loan or l...|                Loan|Struggling to pay...| ALLY FINANCIAL INC.|                 Not known|          Web|          05/10/2019|                 In progress|             Yes|         Not known|     3238036|\n",
            "|   05/10/2019|     Debt collection|        Medical debt|False statements ...|MiraMed Revenue G...|                 Not known|          Web|          05/10/2019|        Closed with expla...|             Yes|         Not known|     3237941|\n",
            "|   05/10/2019|     Debt collection|    Payday loan debt|Attempts to colle...|Ad Astra Recovery...|                 Not known|          Web|          05/10/2019|        Closed with expla...|             Yes|         Not known|     3238461|\n",
            "|   05/10/2019|     Debt collection|       I do not know|False statements ...|Commonwealth Fina...|                 Not known|          Web|          05/10/2019|        Closed with expla...|             Yes|         Not known|     3237971|\n",
            "|   05/10/2019|Credit reporting,...|    Credit reporting|Problem with a cr...| ALLY FINANCIAL INC.|                 Not known|          Web|          05/10/2019|                 In progress|             Yes|         Not known|     3237837|\n",
            "|   05/10/2019|     Debt collection|    Credit card debt|Took or threatene...|NAVY FEDERAL CRED...|                 Not known|          Web|          05/10/2019|                 In progress|             Yes|         Not known|     3237928|\n",
            "|   05/10/2019|     Debt collection|        Medical debt|Communication tac...|MERCANTILE ADJUST...|                 Not known|          Web|          05/10/2019|        Closed with expla...|             Yes|         Not known|     3238682|\n",
            "|   05/09/2019|     Debt collection|        Medical debt|Attempts to colle...|HCFS Health Care ...|                 Not known|          Web|          05/09/2019|        Closed with expla...|             Yes|         Not known|     3237088|\n",
            "|   05/09/2019|        Student loan|Private student loan|Dealing with your...|National Collecti...|                 Not known|          Web|          05/09/2019|        Closed with expla...|             Yes|         Not known|     3236907|\n",
            "|   05/09/2019|Checking or savin...|     Savings account| Managing an account| ALLY FINANCIAL INC.|                 Not known|  Postal mail|          05/09/2019|                 In progress|             Yes|         Not known|     3237160|\n",
            "+-------------+--------------------+--------------------+--------------------+--------------------+--------------------------+-------------+--------------------+----------------------------+----------------+------------------+------------+\n",
            "only showing top 20 rows\n",
            "\n"
          ]
        }
      ],
      "source": [
        "dataset_s.show()"
      ]
    },
    {
      "cell_type": "markdown",
      "metadata": {
        "id": "xWgC0LBEWWxf"
      },
      "source": [
        ""
      ]
    },
    {
      "cell_type": "code",
      "execution_count": 22,
      "metadata": {
        "id": "dNKSaXqkPMxx"
      },
      "outputs": [],
      "source": [
        "dataset_s = dataset_s.withColumnRenamed('Consumer consent provided?','Consumer consent provided') \\\n",
        ".withColumnRenamed('Timely response?','Timely response') \\\n",
        ".withColumnRenamed('Consumer disputed?','Consumer disputed')"
      ]
    },
    {
      "cell_type": "code",
      "execution_count": 23,
      "metadata": {
        "id": "sn8uyN5uPM66"
      },
      "outputs": [],
      "source": [
        "dataset_s = dataset_s.drop('Date received','Date sent to company','Complaint ID')"
      ]
    },
    {
      "cell_type": "code",
      "execution_count": 24,
      "metadata": {
        "colab": {
          "base_uri": "https://localhost:8080/"
        },
        "id": "juJJOcDyPM-4",
        "outputId": "f5843643-8b45-46ad-ad22-10a196f0e4d0"
      },
      "outputs": [
        {
          "output_type": "stream",
          "name": "stdout",
          "text": [
            "+-----------------+------+\n",
            "|Consumer disputed| count|\n",
            "+-----------------+------+\n",
            "|              Yes|148378|\n",
            "|        Not known|513854|\n",
            "|               No|620123|\n",
            "+-----------------+------+\n",
            "\n"
          ]
        }
      ],
      "source": [
        "dataset_s.groupby('Consumer disputed').count().orderBy('count').show()"
      ]
    },
    {
      "cell_type": "code",
      "execution_count": 25,
      "metadata": {
        "id": "in9Vn44_Yl8L"
      },
      "outputs": [],
      "source": [
        "consumer_disputed_dataset = dataset_s.groupby('Consumer disputed').count().orderBy('count').toPandas()"
      ]
    },
    {
      "cell_type": "code",
      "execution_count": 26,
      "metadata": {
        "colab": {
          "base_uri": "https://localhost:8080/",
          "height": 394
        },
        "id": "s4MsOXtFYmBy",
        "outputId": "24f6a3f5-e27c-4779-a2fa-1ae65661f18d"
      },
      "outputs": [
        {
          "output_type": "execute_result",
          "data": {
            "text/plain": [
              "<matplotlib.axes._subplots.AxesSubplot at 0x7f66c1955a10>"
            ]
          },
          "metadata": {},
          "execution_count": 26
        },
        {
          "output_type": "display_data",
          "data": {
            "text/plain": [
              "<Figure size 720x360 with 1 Axes>"
            ],
            "image/png": "[encoded data removed]"
          },
          "metadata": {
            "needs_background": "light"
          }
        }
      ],
      "source": [
        "consumer_disputed_dataset.plot.bar(x='Consumer disputed', y='count',figsize=(10,5))"
      ]
    },
    {
      "cell_type": "code",
      "execution_count": 27,
      "metadata": {
        "colab": {
          "base_uri": "https://localhost:8080/"
        },
        "id": "Yx0lGWbaPNCQ",
        "outputId": "9bc3dd93-ccb0-4a4d-828e-8d9cf179d38d"
      },
      "outputs": [
        {
          "output_type": "stream",
          "name": "stdout",
          "text": [
            "+----------------------------------------------------------------------------+------+\n",
            "|Product                                                                     |count |\n",
            "+----------------------------------------------------------------------------+------+\n",
            "|Virtual currency                                                            |18    |\n",
            "|Other financial service                                                     |1059  |\n",
            "|Prepaid card                                                                |3819  |\n",
            "|Money transfers                                                             |5354  |\n",
            "|Payday loan                                                                 |5544  |\n",
            "|Payday loan, title loan, or personal loan                                   |8659  |\n",
            "|Money transfer, virtual currency, or money service                          |10164 |\n",
            "|Vehicle loan or lease                                                       |11377 |\n",
            "|Consumer Loan                                                               |31605 |\n",
            "|Checking or savings account                                                 |40641 |\n",
            "|Credit card or prepaid card                                                 |47653 |\n",
            "|Student loan                                                                |51685 |\n",
            "|Bank account or service                                                     |86206 |\n",
            "|Credit card                                                                 |89190 |\n",
            "|Credit reporting                                                            |140432|\n",
            "|Credit reporting, credit repair services, or other personal consumer reports|225978|\n",
            "|Debt collection                                                             |244873|\n",
            "|Mortgage                                                                    |278098|\n",
            "+----------------------------------------------------------------------------+------+\n",
            "\n"
          ]
        }
      ],
      "source": [
        "dataset_s.groupby('Product').count().orderBy('count').show(truncate=False)"
      ]
    },
    {
      "cell_type": "code",
      "execution_count": 28,
      "metadata": {
        "colab": {
          "base_uri": "https://localhost:8080/",
          "height": 715
        },
        "id": "u4M77kvMOtSR",
        "outputId": "af91d53c-970e-4745-f0bd-f3274d7dfaf0"
      },
      "outputs": [
        {
          "output_type": "execute_result",
          "data": {
            "text/plain": [
              "<matplotlib.axes._subplots.AxesSubplot at 0x7f66ca123210>"
            ]
          },
          "metadata": {},
          "execution_count": 28
        },
        {
          "output_type": "display_data",
          "data": {
            "text/plain": [
              "<Figure size 720x360 with 1 Axes>"
            ],
            "image/png": "[encoded data removed]"
          },
          "metadata": {
            "needs_background": "light"
          }
        }
      ],
      "source": [
        "product_dataset = dataset_s.groupby('Product').count().orderBy('count').toPandas()\n",
        "product_dataset.plot.bar(x='Product', y='count',figsize=(10,5))"
      ]
    },
    {
      "cell_type": "code",
      "execution_count": 29,
      "metadata": {
        "colab": {
          "base_uri": "https://localhost:8080/"
        },
        "id": "bl0FMtHxOtV4",
        "outputId": "98ac9756-8c3d-4ddd-f827-10d097a82420"
      },
      "outputs": [
        {
          "output_type": "stream",
          "name": "stdout",
          "text": [
            "+------------------------------------------+------+\n",
            "|Sub-product                               |count |\n",
            "+------------------------------------------+------+\n",
            "|Student prepaid card                      |5     |\n",
            "|Electronic Benefit Transfer / EBT card    |12    |\n",
            "|Transit card                              |37    |\n",
            "|Traveler’s/Cashier’s checks               |88    |\n",
            "|Credit repair                             |103   |\n",
            "|Pawn loan                                 |118   |\n",
            "|Refund anticipation check                 |155   |\n",
            "|Check cashing service                     |175   |\n",
            "|Foreign currency exchange                 |180   |\n",
            "|Gift card                                 |190   |\n",
            "|Other special purpose card                |191   |\n",
            "|ID prepaid card                           |207   |\n",
            "|Traveler's check or cashier's check       |210   |\n",
            "|Check cashing                             |266   |\n",
            "|Money order                               |340   |\n",
            "|Government benefit payment card           |389   |\n",
            "|Gift or merchant card                     |402   |\n",
            "|Mobile wallet                             |418   |\n",
            "|Debt settlement                           |576   |\n",
            "|Government benefit card                   |585   |\n",
            "|Payroll card                              |612   |\n",
            "|Cashing a check without an account        |625   |\n",
            "|Second mortgage                           |662   |\n",
            "|Credit repair services                    |799   |\n",
            "|CD (Certificate of Deposit)               |1208  |\n",
            "|Title loan                                |1329  |\n",
            "|General-purpose prepaid card              |1633  |\n",
            "|Private student loan debt                 |1662  |\n",
            "|General purpose card                      |1752  |\n",
            "|Federal student loan debt                 |1761  |\n",
            "|Lease                                     |1905  |\n",
            "|Virtual currency                          |2125  |\n",
            "|Mobile or digital wallet                  |2166  |\n",
            "|Mortgage debt                             |2394  |\n",
            "|Federal student loan                      |2475  |\n",
            "|Vehicle lease                             |2658  |\n",
            "|Reverse mortgage                          |2882  |\n",
            "|Payday loan debt                          |3141  |\n",
            "|Auto debt                                 |3172  |\n",
            "|(CD) Certificate of deposit               |3417  |\n",
            "|Home equity loan or line of credit (HELOC)|3487  |\n",
            "|Other personal consumer report            |3526  |\n",
            "|Personal line of credit                   |3556  |\n",
            "|Auto                                      |3755  |\n",
            "|International money transfer              |4598  |\n",
            "|Mortgage                                  |4809  |\n",
            "|Domestic (US) money transfer              |5613  |\n",
            "|Other banking product or service          |6438  |\n",
            "|Private student loan                      |6992  |\n",
            "|VA mortgage                               |7598  |\n",
            "|Savings account                           |7932  |\n",
            "|Store credit card                         |8061  |\n",
            "|Other type of mortgage                    |8830  |\n",
            "|Loan                                      |9464  |\n",
            "|Payday loan                               |10292 |\n",
            "|Home equity loan or line of credit        |11624 |\n",
            "|Installment loan                          |12131 |\n",
            "|Medical debt                              |16049 |\n",
            "|Vehicle loan                              |17782 |\n",
            "|Other bank product/service                |17825 |\n",
            "|Credit card debt                          |20217 |\n",
            "|Medical                                   |21187 |\n",
            "|Federal student loan servicing            |22410 |\n",
            "|Non-federal student loan                  |25165 |\n",
            "|Conventional adjustable mortgage (ARM)    |25380 |\n",
            "|Credit card                               |28698 |\n",
            "|Conventional home mortgage                |28742 |\n",
            "|Other debt                                |30475 |\n",
            "|FHA mortgage                              |31645 |\n",
            "|General-purpose credit card or charge card|36978 |\n",
            "|Other (i.e. phone, health club, etc.)     |44554 |\n",
            "|I do not know                             |50077 |\n",
            "|Conventional fixed mortgage               |70613 |\n",
            "|Other mortgage                            |86636 |\n",
            "|Checking account                          |89373 |\n",
            "|Credit reporting                          |221652|\n",
            "|Not known                                 |235166|\n",
            "+------------------------------------------+------+\n",
            "\n"
          ]
        }
      ],
      "source": [
        "dataset_s.groupby('Sub-product').count().orderBy('count').show(100,truncate=False)"
      ]
    },
    {
      "cell_type": "code",
      "execution_count": 30,
      "metadata": {
        "colab": {
          "base_uri": "https://localhost:8080/"
        },
        "id": "Q4HCVrHbOteS",
        "outputId": "08b7784c-7062-4d04-b6b1-87c6c884fb8c"
      },
      "outputs": [
        {
          "output_type": "stream",
          "name": "stdout",
          "text": [
            "+--------------------------------------------------------------------------------+------+\n",
            "|Issue                                                                           |count |\n",
            "+--------------------------------------------------------------------------------+------+\n",
            "|Cannot afford Payments                                                          |1     |\n",
            "|Problem with an overdraft                                                       |2     |\n",
            "|Property was damaged or destroyed property                                      |3     |\n",
            "|Lender damaged or destroyed property                                            |3     |\n",
            "|Property was sold                                                               |5     |\n",
            "|Lender sold the property                                                        |7     |\n",
            "|Lender damaged or destroyed vehicle                                             |8     |\n",
            "|Problem with credit report or credit score                                      |9     |\n",
            "|Was approved for a loan, but didn't receive money                               |12    |\n",
            "|Overdraft, savings, or rewards features                                         |13    |\n",
            "|Problem with overdraft                                                          |18    |\n",
            "|Vehicle was damaged or destroyed the vehicle                                    |33    |\n",
            "|Problem with cash advance                                                       |36    |\n",
            "|Credit limit changed                                                            |41    |\n",
            "|Disclosures                                                                     |49    |\n",
            "|Overdraft, savings or rewards features                                          |53    |\n",
            "|Incorrect exchange rate                                                         |60    |\n",
            "|Was approved for a loan, but didn't receive the money                           |77    |\n",
            "|Advertising, marketing or disclosures                                           |77    |\n",
            "|Lender repossessed or sold the vehicle                                          |79    |\n",
            "|Advertising                                                                     |85    |\n",
            "|Unexpected/Other fees                                                           |103   |\n",
            "|Problem adding money                                                            |107   |\n",
            "|Vehicle was repossessed or sold the vehicle                                     |108   |\n",
            "|Money was taken from your bank account on the wrong day or for the wrong amount |108   |\n",
            "|Lost or stolen check                                                            |120   |\n",
            "|Lost or stolen money order                                                      |127   |\n",
            "|Loan payment wasn't credited to your account                                    |147   |\n",
            "|Excessive fees                                                                  |148   |\n",
            "|Convenience checks                                                              |149   |\n",
            "|Can't stop withdrawals from your bank account                                   |175   |\n",
            "|Cash advance fee                                                                |196   |\n",
            "|Incorrect/missing disclosures or info                                           |202   |\n",
            "|Adding money                                                                    |202   |\n",
            "|Received a loan you didn't apply for                                            |213   |\n",
            "|Overlimit fee                                                                   |215   |\n",
            "|Confusing or misleading advertising or marketing                                |217   |\n",
            "|Problem with additional add-on products or services                             |217   |\n",
            "|Balance transfer fee                                                            |221   |\n",
            "|Fees                                                                            |232   |\n",
            "|Can't contact lender or servicer                                                |236   |\n",
            "|Cash advance                                                                    |245   |\n",
            "|Customer service/Customer relations                                             |283   |\n",
            "|Charged bank acct wrong day or amt                                              |297   |\n",
            "|Shopping for a line of credit                                                   |302   |\n",
            "|Identity theft protection or other monitoring services                          |308   |\n",
            "|Confusing or missing disclosures                                                |342   |\n",
            "|Sale of account                                                                 |344   |\n",
            "|Applied for loan/did not receive money                                          |345   |\n",
            "|Arbitration                                                                     |349   |\n",
            "|Problem getting a card or closing an account                                    |357   |\n",
            "|Getting a line of credit                                                        |362   |\n",
            "|Bankruptcy                                                                      |448   |\n",
            "|Problem with customer service                                                   |453   |\n",
            "|Payment to acct not credited                                                    |461   |\n",
            "|Account terms and changes                                                       |484   |\n",
            "|Privacy                                                                         |489   |\n",
            "|Can't stop charges to bank account                                              |510   |\n",
            "|Other service issues                                                            |514   |\n",
            "|Wrong amount charged or received                                                |516   |\n",
            "|Applying for a mortgage                                                         |516   |\n",
            "|Application processing delay                                                    |540   |\n",
            "|Problem with a company's investigation into an existing issue                   |544   |\n",
            "|Getting the loan                                                                |548   |\n",
            "|Forbearance / Workout plans                                                     |556   |\n",
            "|Other service problem                                                           |578   |\n",
            "|Managing, opening, or closing your mobile wallet account                        |610   |\n",
            "|Received a loan I didn't apply for                                              |616   |\n",
            "|Unauthorized transactions or other transaction problem                          |637   |\n",
            "|Trouble using the card                                                          |668   |\n",
            "|Problem with the payoff process at the end of the loan                          |802   |\n",
            "|Managing the line of credit                                                     |806   |\n",
            "|Unexpected or other fees                                                        |856   |\n",
            "|Collection debt dispute                                                         |901   |\n",
            "|Collection practices                                                            |1001  |\n",
            "|Problem with a purchase or transfer                                             |1002  |\n",
            "|Getting a loan                                                                  |1038  |\n",
            "|Can't contact lender                                                            |1106  |\n",
            "|Balance transfer                                                                |1117  |\n",
            "|Struggling to pay your bill                                                     |1134  |\n",
            "|Managing, opening, or closing account                                           |1194  |\n",
            "|Getting a loan or lease                                                         |1268  |\n",
            "|Unauthorized transactions/trans. issues                                         |1325  |\n",
            "|Other transaction issues                                                        |1491  |\n",
            "|Credit reporting                                                                |1696  |\n",
            "|Trouble using your card                                                         |1789  |\n",
            "|Unsolicited issuance of credit card                                             |1853  |\n",
            "|Shopping for a loan or lease                                                    |2029  |\n",
            "|Problems at the end of the loan or lease                                        |2115  |\n",
            "|Other transaction problem                                                       |2115  |\n",
            "|Credit line increase/decrease                                                   |2185  |\n",
            "|Other fee                                                                       |2198  |\n",
            "|Payoff process                                                                  |2316  |\n",
            "|Charged fees or interest you didn't expect                                      |2385  |\n",
            "|Billing statement                                                               |2619  |\n",
            "|Threatened to contact someone or share information improperly                   |2649  |\n",
            "|Transaction issue                                                               |2700  |\n",
            "|Credit card protection / Debt protection                                        |2728  |\n",
            "|Charged fees or interest I didn't expect                                        |2753  |\n",
            "|Rewards                                                                         |2916  |\n",
            "|Credit monitoring or identity theft protection services                         |2953  |\n",
            "|Advertising and marketing                                                       |2959  |\n",
            "|Advertising and marketing, including promotional offers                         |2994  |\n",
            "|Money was not available when promised                                           |3002  |\n",
            "|Credit determination                                                            |3057  |\n",
            "|Problem with a lender or other company charging your account                    |3152  |\n",
            "|Delinquent account                                                              |3218  |\n",
            "|Closing on a mortgage                                                           |3448  |\n",
            "|Customer service / Customer relations                                           |3504  |\n",
            "|Problem caused by your funds being low                                          |3531  |\n",
            "|Closing your account                                                            |3616  |\n",
            "|Late fee                                                                        |3639  |\n",
            "|Opening an account                                                              |3791  |\n",
            "|Struggling to pay your loan                                                     |3816  |\n",
            "|Repaying your loan                                                              |3820  |\n",
            "|Applying for a mortgage or refinancing an existing mortgage                     |4122  |\n",
            "|Taking out the loan or lease                                                    |4372  |\n",
            "|Credit monitoring or identity protection                                        |4424  |\n",
            "|Closing an account                                                              |4427  |\n",
            "|Getting a credit card                                                           |4539  |\n",
            "|Problem with fraud alerts or security freezes                                   |5021  |\n",
            "|Struggling to repay your loan                                                   |5051  |\n",
            "|Unable to get your credit report or credit score                                |5138  |\n",
            "|APR or interest rate                                                            |5506  |\n",
            "|Problem when making payments                                                    |5521  |\n",
            "|Improper use of my credit report                                                |5580  |\n",
            "|Credit decision / Underwriting                                                  |5652  |\n",
            "|Fraud or scam                                                                   |6035  |\n",
            "|Using a debit or ATM card                                                       |6145  |\n",
            "|Fees or interest                                                                |6248  |\n",
            "|Other features, terms, or problems                                              |6256  |\n",
            "|Closing/Cancelling account                                                      |6389  |\n",
            "|Making/receiving payments, sending money                                        |7404  |\n",
            "|Identity theft / Fraud / Embezzlement                                           |8481  |\n",
            "|Can't repay my loan                                                             |8726  |\n",
            "|Taking/threatening an illegal action                                            |8865  |\n",
            "|Settlement process and costs                                                    |8940  |\n",
            "|Problems when you are unable to pay                                             |9385  |\n",
            "|Took or threatened to take negative or legal action                             |9445  |\n",
            "|Improper contact or sharing of info                                             |10069 |\n",
            "|Unable to get credit report/credit score                                        |10859 |\n",
            "|Problem with a purchase shown on your statement                                 |11406 |\n",
            "|Problems caused by my funds being low                                           |11845 |\n",
            "|Dealing with your lender or servicer                                            |12395 |\n",
            "|Other                                                                           |14779 |\n",
            "|Billing disputes                                                                |15136 |\n",
            "|Credit reporting company's investigation                                        |16883 |\n",
            "|Application, originator, mortgage broker                                        |17229 |\n",
            "|Dealing with my lender or servicer                                              |17630 |\n",
            "|Struggling to pay mortgage                                                      |18632 |\n",
            "|Managing the loan or lease                                                      |19426 |\n",
            "|False statements or representation                                              |20240 |\n",
            "|Deposits and withdrawals                                                        |22851 |\n",
            "|Trouble during payment process                                                  |23116 |\n",
            "|Written notification about debt                                                 |23694 |\n",
            "|Managing an account                                                             |25393 |\n",
            "|Disclosure verification of debt                                                 |30800 |\n",
            "|Improper use of your report                                                     |33337 |\n",
            "|Communication tactics                                                           |35403 |\n",
            "|Account opening, closing, or management                                         |37961 |\n",
            "|Attempts to collect debt not owed                                               |43021 |\n",
            "|Problem with a credit reporting company's investigation into an existing problem|51300 |\n",
            "|Cont'd attempts collect debt not owed                                           |60687 |\n",
            "|Loan servicing, payments, escrow account                                        |77333 |\n",
            "|Incorrect information on credit report                                          |102686|\n",
            "|Loan modification,collection,foreclosure                                        |112311|\n",
            "|Incorrect information on your report                                            |134338|\n",
            "+--------------------------------------------------------------------------------+------+\n",
            "\n"
          ]
        }
      ],
      "source": [
        "dataset_s.groupby('Issue').count().orderBy('count').show(200,truncate=False)"
      ]
    },
    {
      "cell_type": "code",
      "execution_count": 31,
      "metadata": {
        "colab": {
          "base_uri": "https://localhost:8080/"
        },
        "id": "P9c37jT-bpD3",
        "outputId": "0bb8f84b-d9fe-4e17-8e08-ef8eef05105c"
      },
      "outputs": [
        {
          "output_type": "stream",
          "name": "stdout",
          "text": [
            "+---------------------------------------------------+------+\n",
            "|Company                                            |count |\n",
            "+---------------------------------------------------+------+\n",
            "|EQUIFAX, INC.                                      |115703|\n",
            "|Experian Information Solutions Inc.                |103784|\n",
            "|TRANSUNION INTERMEDIATE HOLDINGS, INC.             |96587 |\n",
            "|BANK OF AMERICA, NATIONAL ASSOCIATION              |82104 |\n",
            "|WELLS FARGO & COMPANY                              |70919 |\n",
            "|JPMORGAN CHASE & CO.                               |60221 |\n",
            "|CITIBANK, N.A.                                     |49058 |\n",
            "|CAPITAL ONE FINANCIAL CORPORATION                  |34581 |\n",
            "|Navient Solutions, LLC.                            |29296 |\n",
            "|OCWEN LOAN SERVICING LLC                           |27750 |\n",
            "|SYNCHRONY FINANCIAL                                |21925 |\n",
            "|NATIONSTAR MORTGAGE                                |20449 |\n",
            "|U.S. BANCORP                                       |17120 |\n",
            "|Ditech Financial LLC                               |14104 |\n",
            "|AMERICAN EXPRESS COMPANY                           |13747 |\n",
            "|PNC Bank N.A.                                      |11806 |\n",
            "|ENCORE CAPITAL GROUP INC.                          |11416 |\n",
            "|PORTFOLIO RECOVERY ASSOCIATES INC                  |10365 |\n",
            "|DISCOVER BANK                                      |10325 |\n",
            "|TD BANK US HOLDING COMPANY                         |9720  |\n",
            "|HSBC NORTH AMERICA HOLDINGS INC.                   |8750  |\n",
            "|AES/PHEAA                                          |8712  |\n",
            "|SUNTRUST BANKS, INC.                               |8632  |\n",
            "|SELECT PORTFOLIO SERVICING, INC.                   |8369  |\n",
            "|BARCLAYS BANK DELAWARE                             |6854  |\n",
            "|ERC                                                |6551  |\n",
            "|CITIZENS FINANCIAL GROUP, INC.                     |5916  |\n",
            "|SANTANDER CONSUMER USA HOLDINGS INC.               |5623  |\n",
            "|Alliance Data Card Services                        |5621  |\n",
            "|ALLY FINANCIAL INC.                                |5597  |\n",
            "|UNITED SERVICES AUTOMOBILE ASSOCIATION             |5543  |\n",
            "|PAYPAL HOLDINGS INC.                               |5332  |\n",
            "|FIFTH THIRD FINANCIAL CORPORATION                  |5330  |\n",
            "|BB&T CORPORATION                                   |4934  |\n",
            "|NAVY FEDERAL CREDIT UNION                          |4619  |\n",
            "|TRANSWORLD SYSTEMS INC                             |4515  |\n",
            "|Seterus, Inc.                                      |4488  |\n",
            "|Resurgent Capital Services L.P.                    |4419  |\n",
            "|Diversified Consultants, Inc.                      |4350  |\n",
            "|Specialized Loan Servicing LLC                     |4343  |\n",
            "|Convergent Resources, Inc.                         |4317  |\n",
            "|M&T BANK CORPORATION                               |4242  |\n",
            "|REGIONS FINANCIAL CORPORATION                      |3905  |\n",
            "|Caliber Home Loans, Inc.                           |3282  |\n",
            "|KEYCORP                                            |3280  |\n",
            "|SANTANDER BANK, NATIONAL ASSOCIATION               |3103  |\n",
            "|BAYVIEW LOAN SERVICING, LLC                        |3045  |\n",
            "|NELNET, INC.                                       |2994  |\n",
            "|I.C. System, Inc.                                  |2932  |\n",
            "|BBVA COMPASS FINANCIAL CORPORATION                 |2922  |\n",
            "|CARRINGTON MORTGAGE SERVICES, LLC                  |2921  |\n",
            "|Coinbase, Inc.                                     |2823  |\n",
            "|AFNI INC.                                          |2631  |\n",
            "|Shellpoint Partners, LLC                           |2459  |\n",
            "|WESTERN UNION COMPANY, THE                         |2434  |\n",
            "|FLAGSTAR BANK, FSB                                 |2414  |\n",
            "|ONEMAIN FINANCIAL HOLDINGS, LLC.                   |2373  |\n",
            "|HUNTINGTON NATIONAL BANK, THE                      |2285  |\n",
            "|PHH Mortgage Services Corporation                  |2270  |\n",
            "|National Credit Systems,Inc.                       |2258  |\n",
            "|FREEDOM MORTGAGE COMPANY                           |2222  |\n",
            "|Commonwealth Financial Systems, Inc.               |2212  |\n",
            "|LoanCare, LLC                                      |2160  |\n",
            "|Fidelity National Information Services, Inc. (FNIS)|2118  |\n",
            "|Comerica                                           |2075  |\n",
            "|CCS Financial Services, Inc.                       |2040  |\n",
            "|CIT BANK, NATIONAL ASSOCIATION                     |1988  |\n",
            "|QUICKEN LOANS, INC.                                |1953  |\n",
            "|CL HOLDINGS LLC                                    |1897  |\n",
            "|GENERAL MOTORS FINANCIAL COMPANY, INC.             |1894  |\n",
            "|RUSHMORE LOAN MANAGEMENT SERVICES LLC              |1864  |\n",
            "|MONEYGRAM PAYMENT SYSTEMS WORLDWIDE INC            |1860  |\n",
            "|SLM CORPORATION                                    |1843  |\n",
            "|TOYOTA MOTOR CREDIT CORPORATION                    |1837  |\n",
            "|PENNYMAC LOAN SERVICES, LLC.                       |1809  |\n",
            "|EXPERT GLOBAL SOLUTIONS, INC.                      |1808  |\n",
            "|TCF NATIONAL BANK                                  |1795  |\n",
            "|Southwest Credit Systems, L.P.                     |1772  |\n",
            "|CAVALRY INVESTMENTS, LLC                           |1762  |\n",
            "|Hunter Warfield, Inc.                              |1713  |\n",
            "|EOS Holdings, Inc.                                 |1621  |\n",
            "|Allied Interstate LLC                              |1557  |\n",
            "|ENOVA INTERNATIONAL, INC.                          |1555  |\n",
            "|LEXISNEXIS                                         |1543  |\n",
            "|Selene Finance LP                                  |1534  |\n",
            "|Ad Astra Recovery Services Inc                     |1509  |\n",
            "|BMO HARRIS BANK NATIONAL ASSOCIATION               |1465  |\n",
            "|Receivables Performance Management, LLC            |1435  |\n",
            "|HCFS Health Care Financial Services, Inc.          |1412  |\n",
            "|GREAT LAKES                                        |1399  |\n",
            "|Midwest Recovery Systems                           |1307  |\n",
            "|RoundPoint Mortgage Servicing Corporation          |1292  |\n",
            "|Dynamic Recovery Solutions, LLC                    |1268  |\n",
            "|TENET HEALTHCARE CORPORATION                       |1235  |\n",
            "|FIRST NATIONAL BANK OF OMAHA                       |1232  |\n",
            "|Stellar Recovery, Inc.                             |1224  |\n",
            "|I.Q. DATA INTERNATIONAL, INC.                      |1218  |\n",
            "|NETSPEND CORPORATION                               |1212  |\n",
            "|The CBE Group, Inc.                                |1209  |\n",
            "|AMERICAN HONDA FINANCE CORP                        |1204  |\n",
            "+---------------------------------------------------+------+\n",
            "only showing top 100 rows\n",
            "\n"
          ]
        }
      ],
      "source": [
        "dataset_s.groupby('Company').count().orderBy(col('count').desc()).show(100,truncate=False)"
      ]
    },
    {
      "cell_type": "code",
      "execution_count": 32,
      "metadata": {
        "colab": {
          "base_uri": "https://localhost:8080/"
        },
        "id": "454yFAsYbpG9",
        "outputId": "ead6003c-2ed7-40b7-e9b0-40f7b5503b81"
      },
      "outputs": [
        {
          "output_type": "stream",
          "name": "stdout",
          "text": [
            "+------------------------------------------------------------+-----+\n",
            "|Company                                                     |count|\n",
            "+------------------------------------------------------------+-----+\n",
            "|DSW Carolina, LLC d/b/a Resource Services                   |1    |\n",
            "|Land Title Guarantee Company, a Colorado corporation        |1    |\n",
            "|LIBERTY LENDING, LLC                                        |1    |\n",
            "|LoanUnited.com, LLC                                         |1    |\n",
            "|Broder Credit & Collection Service                          |1    |\n",
            "|Marcadis Singer PA                                          |1    |\n",
            "|Allegiance Accounting Services, LLC                         |1    |\n",
            "|Bit Express, LLC                                            |1    |\n",
            "|Edmonds & Logue PC                                          |1    |\n",
            "|National Recovery Association, LLC.                         |1    |\n",
            "|Gregg & Gregg, P.C.                                         |1    |\n",
            "|Noam J. Cohen, PA                                           |1    |\n",
            "|Settle It Inc.                                              |1    |\n",
            "|Goldman Asset Services, INC                                 |1    |\n",
            "|PDQ Check Exchange LC                                       |1    |\n",
            "|Delay Group DBA The Debt Management Group                   |1    |\n",
            "|HOVOT Management, LLC                                       |1    |\n",
            "|Cycleone Financial Group                                    |1    |\n",
            "|Southwest Mediation Service                                 |1    |\n",
            "|DMEC Capital Services LLC, DBA Settle Our Debt              |1    |\n",
            "|CENTRAL BANC MORTGAGE CORPORATION                           |1    |\n",
            "|iMove Mortgage, LLC                                         |1    |\n",
            "|David E. Gray Attorney at Law LLC                           |1    |\n",
            "|Barnhall Financial Services, Inc.                           |1    |\n",
            "|Anthony J. Musto                                            |1    |\n",
            "|UHG, LLC                                                    |1    |\n",
            "|Top Used Cars, Inc                                          |1    |\n",
            "|August Real Estate Investments, LLC                         |1    |\n",
            "|Autoflex Leasing - Dallas I LLC                             |1    |\n",
            "|TPI ASSET MANAGEMENT, LLC                                   |1    |\n",
            "|Thrivest                                                    |1    |\n",
            "|SANFORD & ADAMS, Attorneys at Law PLLC                      |1    |\n",
            "|BANNER CORPORATION                                          |1    |\n",
            "|Huntington Debt Holding, LLC                                |1    |\n",
            "|Zero Parallel, LLC                                          |1    |\n",
            "|Asset Collections Inc                                       |1    |\n",
            "|3G+1, Inc. dba California Auto Finance                      |1    |\n",
            "|Fair Capital                                                |1    |\n",
            "|The Singer Law Group                                        |1    |\n",
            "|Applewood Funding Corporation                               |1    |\n",
            "|Burns Auto Credit, LLC                                      |1    |\n",
            "|MEGA CAPITAL FUNDING INC.                                   |1    |\n",
            "|Figure Technologies, Inc                                    |1    |\n",
            "|American Mortgage Service Company                           |1    |\n",
            "|The Resolution Law Group, APC                               |1    |\n",
            "|Rapidly Financial, Inc.                                     |1    |\n",
            "|Capehart & Scatchard PA                                     |1    |\n",
            "|ISCC, LLC                                                   |1    |\n",
            "|Creekside Finance, Inc.                                     |1    |\n",
            "|Good Credit For Life, LLC                                   |1    |\n",
            "|FERRANTE ASSOCIATE                                          |1    |\n",
            "|National Auto Group LLC                                     |1    |\n",
            "|Credit Council Corp                                         |1    |\n",
            "|Olympus Law Firm, PLLC                                      |1    |\n",
            "|Doonan, Graves & Longoria                                   |1    |\n",
            "|CR-MPM, LLC dba Don Carro                                   |1    |\n",
            "|Laurens Financial Services Inc                              |1    |\n",
            "|RUSH COLLECTIONS AGENCY, CORP.                              |1    |\n",
            "|Efficient Recovery Services, LLC                            |1    |\n",
            "|Amerifund Home Mortgage LLC                                 |1    |\n",
            "|Peter T. Roach and Associates, P.C.                         |1    |\n",
            "|Pharus Funding LLC                                          |1    |\n",
            "|Neighborhood Capital Funding, Inc.                          |1    |\n",
            "|Norman & Associates, Inc.                                   |1    |\n",
            "|Freisem, Macon Swann & Malone LLP                           |1    |\n",
            "|Cam Credits, Inc.                                           |1    |\n",
            "|Accel Loans, LLC                                            |1    |\n",
            "|MyPrimeHomeLoan.com, LLC                                    |1    |\n",
            "|Deinde Online Services, LLC                                 |1    |\n",
            "|EAST COAST CAPITAL CORP                                     |1    |\n",
            "|Crosspoint Financial Inc.                                   |1    |\n",
            "|Old Union Financial, LLC                                    |1    |\n",
            "|Commonwealth Auto Credit, LLC                               |1    |\n",
            "|Sunset Solutions Group, LLC                                 |1    |\n",
            "|Advantage Credit Counseling Service, Inc.                   |1    |\n",
            "|Lafayette, Ayers & Whitlock, PLC                            |1    |\n",
            "|Pando Mortgage, LLC                                         |1    |\n",
            "|HealthCare Revenue Recovery, LLC                            |1    |\n",
            "|International Mortgage & Finance Group, Inc.                |1    |\n",
            "|Gabriel FInancial Group, Inc.                               |1    |\n",
            "|3D Financial                                                |1    |\n",
            "|Chicago Car Center, Inc.                                    |1    |\n",
            "|METRO ISLAND MORTGAGE INC.                                  |1    |\n",
            "|Odunlami Law Firm, LLC                                      |1    |\n",
            "|Smith, Cohen & Rosenberg LLC                                |1    |\n",
            "|Open Assets LLC                                             |1    |\n",
            "|Accountant Exchange Group                                   |1    |\n",
            "|Northern Arizona Credit, Inc.                               |1    |\n",
            "|Proscript media and advertising services, llc DBA Bank Rover|1    |\n",
            "|CBC Mortgage Agency                                         |1    |\n",
            "|Monroe Credit, LLC                                          |1    |\n",
            "|SPP, Inc.                                                   |1    |\n",
            "|RESIDENTIAL MORTGAGE CORP                                   |1    |\n",
            "|Thomason Law Firm, LLC                                      |1    |\n",
            "|Alpha Mortgage, LLC                                         |1    |\n",
            "|Financial Solutions of America Inc.                         |1    |\n",
            "|Craig's Auto & RV Inc                                       |1    |\n",
            "|Bell Financial Services                                     |1    |\n",
            "|Viceroy, Inc.                                               |1    |\n",
            "|MONEY SERVICE CENTERS OF HAWAII                             |1    |\n",
            "+------------------------------------------------------------+-----+\n",
            "only showing top 100 rows\n",
            "\n"
          ]
        }
      ],
      "source": [
        "dataset_s.groupby('Company').count().orderBy(col('count').asc()).show(100,truncate=False)"
      ]
    },
    {
      "cell_type": "code",
      "execution_count": 33,
      "metadata": {
        "colab": {
          "base_uri": "https://localhost:8080/"
        },
        "id": "lYSz9_bhbpJt",
        "outputId": "3ab0af7d-b69a-4d27-9482-3f1ecc2b369d"
      },
      "outputs": [
        {
          "output_type": "stream",
          "name": "stdout",
          "text": [
            "+-------------------------+------+\n",
            "|Consumer consent provided|count |\n",
            "+-------------------------+------+\n",
            "|Consent withdrawn        |1200  |\n",
            "|Other                    |20482 |\n",
            "|Consent not provided     |285087|\n",
            "|Consent provided         |383885|\n",
            "|Not known                |591701|\n",
            "+-------------------------+------+\n",
            "\n"
          ]
        }
      ],
      "source": [
        "dataset_s.groupby('Consumer consent provided').count().orderBy(col('count').asc()).show(100,truncate=False)"
      ]
    },
    {
      "cell_type": "code",
      "execution_count": 34,
      "metadata": {
        "colab": {
          "base_uri": "https://localhost:8080/",
          "height": 448
        },
        "id": "N1buoi02bpMi",
        "outputId": "eb822594-a569-490e-f937-0c9c2d35168e"
      },
      "outputs": [
        {
          "output_type": "execute_result",
          "data": {
            "text/plain": [
              "<matplotlib.axes._subplots.AxesSubplot at 0x7f66d04760d0>"
            ]
          },
          "metadata": {},
          "execution_count": 34
        },
        {
          "output_type": "display_data",
          "data": {
            "text/plain": [
              "<Figure size 720x360 with 1 Axes>"
            ],
            "image/png": "[encoded data removed]"
          },
          "metadata": {
            "needs_background": "light"
          }
        }
      ],
      "source": [
        "consent_dataset = dataset_s.groupby('Consumer consent provided').count().orderBy('count').toPandas()\n",
        "consent_dataset.plot.bar(x='Consumer consent provided', y='count',figsize=(10,5))"
      ]
    },
    {
      "cell_type": "code",
      "execution_count": 35,
      "metadata": {
        "colab": {
          "base_uri": "https://localhost:8080/"
        },
        "id": "-544dcIibpPx",
        "outputId": "14d42422-8cae-470e-b792-e6062ad737e0"
      },
      "outputs": [
        {
          "output_type": "stream",
          "name": "stdout",
          "text": [
            "+-------------+------+\n",
            "|Submitted via|count |\n",
            "+-------------+------+\n",
            "|Email        |383   |\n",
            "|Fax          |18972 |\n",
            "|Postal mail  |67522 |\n",
            "|Phone        |76509 |\n",
            "|Referral     |173640|\n",
            "|Web          |945329|\n",
            "+-------------+------+\n",
            "\n"
          ]
        }
      ],
      "source": [
        "dataset_s.groupby('Submitted via').count().orderBy(col('count').asc()).show(100,truncate=False)"
      ]
    },
    {
      "cell_type": "code",
      "execution_count": 36,
      "metadata": {
        "colab": {
          "base_uri": "https://localhost:8080/",
          "height": 395
        },
        "id": "SrnzhrSrbpS0",
        "outputId": "79250808-fc90-4b5c-80ed-9b75510918de"
      },
      "outputs": [
        {
          "output_type": "execute_result",
          "data": {
            "text/plain": [
              "<matplotlib.axes._subplots.AxesSubplot at 0x7f66d04057d0>"
            ]
          },
          "metadata": {},
          "execution_count": 36
        },
        {
          "output_type": "display_data",
          "data": {
            "text/plain": [
              "<Figure size 720x360 with 1 Axes>"
            ],
            "image/png": "[encoded data removed]"
          },
          "metadata": {
            "needs_background": "light"
          }
        }
      ],
      "source": [
        "submitted_dataset = dataset_s.groupby('Submitted via').count().orderBy('count').toPandas()\n",
        "submitted_dataset.plot.bar(x='Submitted via', y='count',figsize=(10,5))"
      ]
    },
    {
      "cell_type": "code",
      "execution_count": 37,
      "metadata": {
        "colab": {
          "base_uri": "https://localhost:8080/"
        },
        "id": "xnzIBHwAbpV9",
        "outputId": "d786de1c-ab3e-4e24-ddd4-1b4b6f7949bf"
      },
      "outputs": [
        {
          "output_type": "stream",
          "name": "stdout",
          "text": [
            "+-------------------------------+------+\n",
            "|Company response to consumer   |count |\n",
            "+-------------------------------+------+\n",
            "|Not known                      |7     |\n",
            "|Closed with relief             |5304  |\n",
            "|Untimely response              |6108  |\n",
            "|In progress                    |9277  |\n",
            "|Closed                         |17611 |\n",
            "|Closed without relief          |17868 |\n",
            "|Closed with monetary relief    |74243 |\n",
            "|Closed with non-monetary relief|158716|\n",
            "|Closed with explanation        |993221|\n",
            "+-------------------------------+------+\n",
            "\n"
          ]
        }
      ],
      "source": [
        "dataset_s.groupby('Company response to consumer').count().orderBy(col('count').asc()).show(100,truncate=False)"
      ]
    },
    {
      "cell_type": "code",
      "execution_count": 38,
      "metadata": {
        "colab": {
          "base_uri": "https://localhost:8080/",
          "height": 512
        },
        "id": "DMdjn9cPeLlr",
        "outputId": "bea66d88-532c-4509-b3d2-33caca2af324"
      },
      "outputs": [
        {
          "output_type": "execute_result",
          "data": {
            "text/plain": [
              "<matplotlib.axes._subplots.AxesSubplot at 0x7f66c190d610>"
            ]
          },
          "metadata": {},
          "execution_count": 38
        },
        {
          "output_type": "display_data",
          "data": {
            "text/plain": [
              "<Figure size 720x360 with 1 Axes>"
            ],
            "image/png": "[encoded data removed]"
          },
          "metadata": {
            "needs_background": "light"
          }
        }
      ],
      "source": [
        "response_dataset = dataset_s.groupby('Company response to consumer').count().orderBy('count').toPandas()\n",
        "response_dataset.plot.bar(x='Company response to consumer', y='count',figsize=(10,5))"
      ]
    },
    {
      "cell_type": "code",
      "execution_count": 39,
      "metadata": {
        "colab": {
          "base_uri": "https://localhost:8080/"
        },
        "id": "3bvEXQ2NeLoZ",
        "outputId": "fd7baa33-8f1f-467e-b08f-8cc0614d2dd5"
      },
      "outputs": [
        {
          "output_type": "stream",
          "name": "stdout",
          "text": [
            "+---------------+-------+\n",
            "|Timely response|count  |\n",
            "+---------------+-------+\n",
            "|No             |32193  |\n",
            "|Yes            |1250162|\n",
            "+---------------+-------+\n",
            "\n"
          ]
        }
      ],
      "source": [
        "dataset_s.groupby('Timely response').count().orderBy(col('count').asc()).show(100,truncate=False)"
      ]
    },
    {
      "cell_type": "code",
      "execution_count": 40,
      "metadata": {
        "colab": {
          "base_uri": "https://localhost:8080/",
          "height": 368
        },
        "id": "Lbmr-NW7eLq6",
        "outputId": "1900c11e-8631-4e0a-cf51-a51c23535ecc"
      },
      "outputs": [
        {
          "output_type": "execute_result",
          "data": {
            "text/plain": [
              "<matplotlib.axes._subplots.AxesSubplot at 0x7f66d33368d0>"
            ]
          },
          "metadata": {},
          "execution_count": 40
        },
        {
          "output_type": "display_data",
          "data": {
            "text/plain": [
              "<Figure size 360x360 with 1 Axes>"
            ],
            "image/png": "[encoded data removed]"
          },
          "metadata": {
            "needs_background": "light"
          }
        }
      ],
      "source": [
        "time_dataset = dataset_s.groupby('Timely response').count().orderBy('count').toPandas()\n",
        "time_dataset.plot.bar(x='Timely response', y='count',figsize=(5,5))"
      ]
    },
    {
      "cell_type": "code",
      "execution_count": 41,
      "metadata": {
        "id": "Q-yvf5Caf5EF"
      },
      "outputs": [],
      "source": [
        "dataset_s = dataset_s.drop(col('Company'))"
      ]
    },
    {
      "cell_type": "code",
      "execution_count": 42,
      "metadata": {
        "id": "FI_zxIYQ3JTk"
      },
      "outputs": [],
      "source": [
        "from pyspark.ml.feature import *\n",
        "from pyspark.ml.tuning import *\n",
        "from pyspark.ml import *\n",
        "from pyspark.ml.evaluation import *"
      ]
    },
    {
      "cell_type": "code",
      "execution_count": 43,
      "metadata": {
        "id": "OsKqmprt3Jcd"
      },
      "outputs": [],
      "source": [
        "cols = ['Product', 'Sub-product', 'Issue', 'Consumer consent provided',\n",
        "       'Submitted via', 'Company response to consumer', 'Timely response']"
      ]
    },
    {
      "cell_type": "code",
      "execution_count": 44,
      "metadata": {
        "id": "YeG9ZBbY3JgD"
      },
      "outputs": [],
      "source": [
        "indexers = [StringIndexer(inputCol=c, outputCol=\"{0}_indexed\".format(c)) for c in cols]\n",
        "\n",
        "encoders = [OneHotEncoder(inputCol=indexer.getOutputCol(),outputCol=\"{0}_encoded\".format(indexer.getOutputCol())) for indexer in indexers]\n",
        "\n",
        "assembler = VectorAssembler(inputCols=[encoder.getOutputCol() for encoder in encoders],outputCol=\"features\")\n",
        "\n",
        "pipeline = Pipeline(stages=indexers + encoders + [assembler])\n",
        "dataset_encoded = pipeline.fit(dataset_s).transform(dataset_s)"
      ]
    },
    {
      "cell_type": "code",
      "execution_count": 45,
      "metadata": {
        "id": "4ACF9z_Q3Jj8"
      },
      "outputs": [],
      "source": [
        "dataset_encoded_features = dataset_encoded.select(col('features'),col('Consumer disputed'))"
      ]
    },
    {
      "cell_type": "code",
      "source": [
        "indexers = [StringIndexer(inputCol='Consumer disputed', outputCol='label')]\n",
        "pipeline = Pipeline(stages=indexers)\n",
        "dataset_encoded_features = pipeline.fit(dataset_encoded_features).transform(dataset_encoded_features)"
      ],
      "metadata": {
        "id": "Qs9oe_VxfL9W"
      },
      "execution_count": 46,
      "outputs": []
    },
    {
      "cell_type": "code",
      "source": [
        "dataset_encoded_features = dataset_encoded_features.select(col('features'),col('label'))"
      ],
      "metadata": {
        "id": "bmyET5usftps"
      },
      "execution_count": 47,
      "outputs": []
    },
    {
      "cell_type": "code",
      "source": [
        "train_data, test_data = dataset_encoded_features.randomSplit([0.7, 0.3], seed = 1)\n",
        "print(\"Training Dataset Count: \" + str(train_data.count()))\n",
        "print(\"Test Dataset Count: \" + str(test_data.count()))"
      ],
      "metadata": {
        "colab": {
          "base_uri": "https://localhost:8080/"
        },
        "id": "CySdwWfVbKRY",
        "outputId": "4c4bc285-79a4-4345-c950-a07192cb48c7"
      },
      "execution_count": 48,
      "outputs": [
        {
          "output_type": "stream",
          "name": "stdout",
          "text": [
            "Training Dataset Count: 897646\n",
            "Test Dataset Count: 384709\n"
          ]
        }
      ]
    },
    {
      "cell_type": "markdown",
      "source": [
        "# SPARK VERSION - LOGISTIC REGRESSION"
      ],
      "metadata": {
        "id": "7u9wrX_rKyET"
      }
    },
    {
      "cell_type": "code",
      "source": [
        "from pyspark.ml.classification import LogisticRegression"
      ],
      "metadata": {
        "id": "BueUthFKdpM-"
      },
      "execution_count": 49,
      "outputs": []
    },
    {
      "cell_type": "code",
      "source": [
        "lr = LogisticRegression(featuresCol = 'features', labelCol = 'label', maxIter=10)\n",
        "lrModel = lr.fit(train_data)"
      ],
      "metadata": {
        "id": "SeN1Q9JtgLYD"
      },
      "execution_count": 50,
      "outputs": []
    },
    {
      "cell_type": "code",
      "source": [
        "trainingSummary = lrModel.summary\n",
        "\n",
        "print(\"False positive rate by label:\")\n",
        "for i, rate in enumerate(trainingSummary.falsePositiveRateByLabel):\n",
        "    print(\"label %d: %s\" % (i, rate))\n",
        "\n",
        "print(\"True positive rate by label:\")\n",
        "for i, rate in enumerate(trainingSummary.truePositiveRateByLabel):\n",
        "    print(\"label %d: %s\" % (i, rate))\n",
        "\n",
        "print(\"Precision by label:\")\n",
        "for i, prec in enumerate(trainingSummary.precisionByLabel):\n",
        "    print(\"label %d: %s\" % (i, prec))\n",
        "\n",
        "print(\"Recall by label:\")\n",
        "for i, rec in enumerate(trainingSummary.recallByLabel):\n",
        "    print(\"label %d: %s\" % (i, rec))\n",
        "\n",
        "print(\"F-measure by label:\")\n",
        "for i, f in enumerate(trainingSummary.fMeasureByLabel()):\n",
        "    print(\"label %d: %s\" % (i, f))\n",
        "\n",
        "accuracy = trainingSummary.accuracy\n",
        "falsePositiveRate = trainingSummary.weightedFalsePositiveRate\n",
        "truePositiveRate = trainingSummary.weightedTruePositiveRate\n",
        "fMeasure = trainingSummary.weightedFMeasure()\n",
        "precision = trainingSummary.weightedPrecision\n",
        "recall = trainingSummary.weightedRecall\n",
        "print(\"Accuracy: %s\\nFPR: %s\\nTPR: %s\\nF-measure: %s\\nPrecision: %s\\nRecall: %s\"\n",
        "      % (accuracy, falsePositiveRate, truePositiveRate, fMeasure, precision, recall))"
      ],
      "metadata": {
        "colab": {
          "base_uri": "https://localhost:8080/"
        },
        "id": "quKJDMaBgLbf",
        "outputId": "8b38754a-c1c1-4d56-859f-5465e51782b8"
      },
      "execution_count": 51,
      "outputs": [
        {
          "output_type": "stream",
          "name": "stdout",
          "text": [
            "False positive rate by label:\n",
            "label 0: 0.22725929823577742\n",
            "label 1: 0.001656922252967955\n",
            "label 2: 2.3934565417576286e-05\n",
            "True positive rate by label:\n",
            "label 0: 0.99813103065248\n",
            "label 1: 0.9952737133997588\n",
            "label 2: 0.0003178731397196937\n",
            "Precision by label:\n",
            "label 0: 0.8043015624825905\n",
            "label 1: 0.997518741715215\n",
            "label 2: 0.6346153846153846\n",
            "Recall by label:\n",
            "label 0: 0.99813103065248\n",
            "label 1: 0.9952737133997588\n",
            "label 2: 0.0003178731397196937\n",
            "F-measure by label:\n",
            "label 0: 0.8907943082851122\n",
            "label 1: 0.9963949629621387\n",
            "label 2: 0.0006354279992682951\n",
            "Accuracy: 0.881585836732966\n",
            "FPR: 0.11052599178712896\n",
            "TPR: 0.8815858367329661\n",
            "F-measure: 0.8301847168233292\n",
            "Precision: 0.8621453880941301\n",
            "Recall: 0.8815858367329661\n"
          ]
        }
      ]
    },
    {
      "cell_type": "code",
      "source": [
        "predictions = lrModel.transform(test_data)"
      ],
      "metadata": {
        "id": "RSTovFSPgLe5"
      },
      "execution_count": 52,
      "outputs": []
    },
    {
      "cell_type": "code",
      "source": [
        "evaluator = MulticlassClassificationEvaluator()"
      ],
      "metadata": {
        "id": "GkQwCEIAh1z-"
      },
      "execution_count": 53,
      "outputs": []
    },
    {
      "cell_type": "code",
      "source": [
        "accuracy = evaluator.evaluate(predictions,{evaluator.metricName: \"accuracy\"})\n",
        "falsePositiveRate = evaluator.evaluate(predictions,{evaluator.metricName: \"weightedFalsePositiveRate\"})\n",
        "truePositiveRate = evaluator.evaluate(predictions,{evaluator.metricName: \"weightedTruePositiveRate\"})\n",
        "fMeasure = evaluator.evaluate(predictions,{evaluator.metricName: \"weightedFMeasure\"})\n",
        "precision = evaluator.evaluate(predictions,{evaluator.metricName: \"weightedPrecision\"})\n",
        "recall = evaluator.evaluate(predictions,{evaluator.metricName: \"weightedRecall\"})\n",
        "print(\"Accuracy: %s\\nFPR: %s\\nTPR: %s\\nF-measure: %s\\nPrecision: %s\\nRecall: %s\"\n",
        "      % (accuracy, falsePositiveRate, truePositiveRate, fMeasure, precision, recall))"
      ],
      "metadata": {
        "colab": {
          "base_uri": "https://localhost:8080/"
        },
        "id": "229bN5N_k7at",
        "outputId": "3fdd80e3-75f5-4343-e98d-66acc5f3ed8c"
      },
      "execution_count": 54,
      "outputs": [
        {
          "output_type": "stream",
          "name": "stdout",
          "text": [
            "Accuracy: 0.8814168631355128\n",
            "FPR: 0.11094173733293508\n",
            "TPR: 0.8814168631355128\n",
            "F-measure: 0.8299101399804574\n",
            "Precision: 0.8502215442100782\n",
            "Recall: 0.8814168631355128\n"
          ]
        }
      ]
    },
    {
      "cell_type": "markdown",
      "source": [
        "# SPARK VERSION - MLPC"
      ],
      "metadata": {
        "id": "kL3zhciWKsyL"
      }
    },
    {
      "cell_type": "code",
      "execution_count": 55,
      "metadata": {
        "id": "qYNj6akFma24"
      },
      "outputs": [],
      "source": [
        "from pyspark.ml.classification import MultilayerPerceptronClassifier"
      ]
    },
    {
      "cell_type": "code",
      "source": [
        "nb_classes = train_data.select('label').distinct().count()\n",
        "input_dim = len(train_data.select('features').first()[0])"
      ],
      "metadata": {
        "id": "g2saacEhyQxX"
      },
      "execution_count": 56,
      "outputs": []
    },
    {
      "cell_type": "code",
      "source": [
        "layers = [input_dim,128,256,512,nb_classes]"
      ],
      "metadata": {
        "id": "bM3ORq8gHV7B"
      },
      "execution_count": 69,
      "outputs": []
    },
    {
      "cell_type": "code",
      "source": [
        "mlpc = (MultilayerPerceptronClassifier(layers=layers, solver='gd',tol=0.0001,stepSize=0.0001,blockSize=16).\n",
        "        setLabelCol('label').setFeaturesCol('features').setSeed(10).setMaxIter(50))"
      ],
      "metadata": {
        "id": "_8zQCngFHV-O"
      },
      "execution_count": 75,
      "outputs": []
    },
    {
      "cell_type": "code",
      "source": [
        "model_mlpc = mlpc.fit(train_data)"
      ],
      "metadata": {
        "id": "bCEPFfX6HWBS"
      },
      "execution_count": 76,
      "outputs": []
    },
    {
      "cell_type": "code",
      "source": [
        "predictions_mlpc = model_mlpc.transform(test_data)"
      ],
      "metadata": {
        "id": "RWiRIXcTHWEA"
      },
      "execution_count": 77,
      "outputs": []
    },
    {
      "cell_type": "code",
      "source": [
        "evaluator_mlpc = MulticlassClassificationEvaluator()"
      ],
      "metadata": {
        "id": "dH5IEK9MHWG4"
      },
      "execution_count": 78,
      "outputs": []
    },
    {
      "cell_type": "code",
      "source": [
        "accuracy = evaluator_mlpc.evaluate(predictions_mlpc,{evaluator_mlpc.metricName: \"accuracy\"})\n",
        "falsePositiveRate = evaluator_mlpc.evaluate(predictions_mlpc,{evaluator_mlpc.metricName: \"weightedFalsePositiveRate\"})\n",
        "truePositiveRate = evaluator_mlpc.evaluate(predictions_mlpc,{evaluator_mlpc.metricName: \"weightedTruePositiveRate\"})\n",
        "fMeasure = evaluator_mlpc.evaluate(predictions_mlpc,{evaluator_mlpc.metricName: \"weightedFMeasure\"})\n",
        "precision = evaluator_mlpc.evaluate(predictions_mlpc,{evaluator_mlpc.metricName: \"weightedPrecision\"})\n",
        "recall = evaluator_mlpc.evaluate(predictions_mlpc,{evaluator_mlpc.metricName: \"weightedRecall\"})\n",
        "print(\"Accuracy: %s\\nFPR: %s\\nTPR: %s\\nF-measure: %s\\nPrecision: %s\\nRecall: %s\"\n",
        "      % (accuracy, falsePositiveRate, truePositiveRate, fMeasure, precision, recall))"
      ],
      "metadata": {
        "colab": {
          "base_uri": "https://localhost:8080/"
        },
        "id": "JAXFNAS-HWKE",
        "outputId": "8ac920b9-f196-4056-f0ee-b7f3da465722"
      },
      "execution_count": 79,
      "outputs": [
        {
          "output_type": "stream",
          "name": "stdout",
          "text": [
            "Accuracy: 0.40017779672427733\n",
            "FPR: 0.40017779672427733\n",
            "TPR: 0.40017779672427733\n",
            "F-measure: 0.22874561982878264\n",
            "Precision: 0.16014226899109701\n",
            "Recall: 0.40017779672427733\n"
          ]
        }
      ]
    },
    {
      "cell_type": "markdown",
      "source": [
        "# PYTORCH VERSION"
      ],
      "metadata": {
        "id": "L7B8901tKjR0"
      }
    },
    {
      "cell_type": "code",
      "source": [
        " pip install sparktorch"
      ],
      "metadata": {
        "colab": {
          "base_uri": "https://localhost:8080/"
        },
        "id": "1wOLEruGHSnX",
        "outputId": "2deb8e32-bf52-449b-d5ae-f2be5481a000"
      },
      "execution_count": null,
      "outputs": [
        {
          "output_type": "stream",
          "name": "stdout",
          "text": [
            "Looking in indexes: https://pypi.org/simple, https://us-python.pkg.dev/colab-wheels/public/simple/\n",
            "Collecting sparktorch\n",
            "  Downloading sparktorch-0.1.2.tar.gz (21 kB)\n",
            "Requirement already satisfied: torch in /usr/local/lib/python3.7/dist-packages (from sparktorch) (1.11.0+cu113)\n",
            "Requirement already satisfied: flask in /usr/local/lib/python3.7/dist-packages (from sparktorch) (1.1.4)\n",
            "Requirement already satisfied: requests in /usr/local/lib/python3.7/dist-packages (from sparktorch) (2.23.0)\n",
            "Requirement already satisfied: dill in /usr/local/lib/python3.7/dist-packages (from sparktorch) (0.3.5.1)\n",
            "Requirement already satisfied: itsdangerous<2.0,>=0.24 in /usr/local/lib/python3.7/dist-packages (from flask->sparktorch) (1.1.0)\n",
            "Requirement already satisfied: Jinja2<3.0,>=2.10.1 in /usr/local/lib/python3.7/dist-packages (from flask->sparktorch) (2.11.3)\n",
            "Requirement already satisfied: Werkzeug<2.0,>=0.15 in /usr/local/lib/python3.7/dist-packages (from flask->sparktorch) (1.0.1)\n",
            "Requirement already satisfied: click<8.0,>=5.1 in /usr/local/lib/python3.7/dist-packages (from flask->sparktorch) (7.1.2)\n",
            "Requirement already satisfied: MarkupSafe>=0.23 in /usr/local/lib/python3.7/dist-packages (from Jinja2<3.0,>=2.10.1->flask->sparktorch) (2.0.1)\n",
            "Requirement already satisfied: urllib3!=1.25.0,!=1.25.1,<1.26,>=1.21.1 in /usr/local/lib/python3.7/dist-packages (from requests->sparktorch) (1.24.3)\n",
            "Requirement already satisfied: certifi>=2017.4.17 in /usr/local/lib/python3.7/dist-packages (from requests->sparktorch) (2022.5.18.1)\n",
            "Requirement already satisfied: idna<3,>=2.5 in /usr/local/lib/python3.7/dist-packages (from requests->sparktorch) (2.10)\n",
            "Requirement already satisfied: chardet<4,>=3.0.2 in /usr/local/lib/python3.7/dist-packages (from requests->sparktorch) (3.0.4)\n",
            "Requirement already satisfied: typing-extensions in /usr/local/lib/python3.7/dist-packages (from torch->sparktorch) (4.2.0)\n",
            "Building wheels for collected packages: sparktorch\n",
            "  Building wheel for sparktorch (setup.py) ... \u001b[?25l\u001b[?25hdone\n",
            "  Created wheel for sparktorch: filename=sparktorch-0.1.2-py3-none-any.whl size=24596 sha256=73aae92d01e1132cfa5bceb5fd94f6009a5a217a3c2189a16f39740b6e23b76c\n",
            "  Stored in directory: /root/.cache/pip/wheels/67/d4/a2/a288b918877e28698fc8ff8cb1d8290713bd84abcb80715d47\n",
            "Successfully built sparktorch\n",
            "Installing collected packages: sparktorch\n",
            "Successfully installed sparktorch-0.1.2\n"
          ]
        }
      ]
    },
    {
      "cell_type": "code",
      "source": [
        "from sparktorch import serialize_torch_obj, SparkTorch\n",
        "import torch\n",
        "import torch.nn as nn"
      ],
      "metadata": {
        "id": "WMcbwz0NHSqD"
      },
      "execution_count": null,
      "outputs": []
    },
    {
      "cell_type": "code",
      "source": [
        "network = nn.Sequential(\n",
        "    nn.Linear(input_dim, 128),\n",
        "    nn.ReLU(),\n",
        "    nn.Linear(128, 256),\n",
        "    nn.ReLU(),\n",
        "    nn.BatchNorm1d(256),\n",
        "    nn.Dropout(),\n",
        "    nn.Linear(256, 512),\n",
        "    nn.ReLU(),\n",
        "    nn.BatchNorm1d(512),\n",
        "    nn.Dropout(),\n",
        "    nn.Linear(512, 512),\n",
        "    nn.ReLU(),\n",
        "    nn.BatchNorm1d(512),\n",
        "    nn.Dropout(),\n",
        "    nn.Linear(512, 256),\n",
        "    nn.ReLU(),\n",
        "    nn.BatchNorm1d(256),\n",
        "    nn.Dropout(),\n",
        "    nn.Linear(256, 256),\n",
        "    nn.ReLU(),\n",
        "    nn.BatchNorm1d(256),\n",
        "    nn.Dropout(),\n",
        "    nn.Linear(256, nb_classes),\n",
        "    nn.Softmax(dim=1)\n",
        ")"
      ],
      "metadata": {
        "id": "09GvB4YfHSsm"
      },
      "execution_count": null,
      "outputs": []
    },
    {
      "cell_type": "code",
      "source": [
        "torch_obj = serialize_torch_obj(\n",
        "    model=network,\n",
        "    criterion=nn.CrossEntropyLoss(),\n",
        "    optimizer=torch.optim.Adam,\n",
        "    lr=0.0001,\n",
        "    weight_decay=0.0001\n",
        ")"
      ],
      "metadata": {
        "id": "40VG_0SHHSvI"
      },
      "execution_count": null,
      "outputs": []
    },
    {
      "cell_type": "code",
      "source": [
        "spark_model = SparkTorch(\n",
        "    inputCol='features',\n",
        "    labelCol='label',\n",
        "    predictionCol='predictions',\n",
        "    torchObj=torch_obj,\n",
        "    iters=20,\n",
        "    verbose=2,\n",
        "    miniBatch=16,\n",
        "    validationPct=0.2\n",
        ")"
      ],
      "metadata": {
        "id": "qw3OXc3DHSxk"
      },
      "execution_count": null,
      "outputs": []
    },
    {
      "cell_type": "code",
      "source": [
        "p = Pipeline(stages=[spark_model])\n",
        "p1 = p.fit(train_data)"
      ],
      "metadata": {
        "id": "Q2MTfCFRHS0O"
      },
      "execution_count": null,
      "outputs": []
    },
    {
      "cell_type": "code",
      "source": [
        "predictions = p1.transform(test_data).persist()\n",
        "evaluator = MulticlassClassificationEvaluator(labelCol=\"label\", predictionCol=\"predictions\")"
      ],
      "metadata": {
        "id": "ThklH-4wHS27"
      },
      "execution_count": null,
      "outputs": []
    },
    {
      "cell_type": "code",
      "source": [
        "accuracy = evaluator.evaluate(predictions,{evaluator.metricName: \"accuracy\"})\n",
        "falsePositiveRate = evaluator.evaluate(predictions,{evaluator.metricName: \"weightedFalsePositiveRate\"})\n",
        "truePositiveRate = evaluator.evaluate(predictions,{evaluator.metricName: \"weightedTruePositiveRate\"})\n",
        "fMeasure = evaluator.evaluate(predictions,{evaluator.metricName: \"weightedFMeasure\"})\n",
        "precision = evaluator.evaluate(predictions,{evaluator.metricName: \"weightedPrecision\"})\n",
        "recall = evaluator.evaluate(predictions,{evaluator.metricName: \"weightedRecall\"})\n",
        "print(\"Accuracy: %s\\nFPR: %s\\nTPR: %s\\nF-measure: %s\\nPrecision: %s\\nRecall: %s\"\n",
        "      % (accuracy, falsePositiveRate, truePositiveRate, fMeasure, precision, recall))"
      ],
      "metadata": {
        "colab": {
          "base_uri": "https://localhost:8080/"
        },
        "id": "HB-ATAdOIvoA",
        "outputId": "5fa4d3a8-6e54-4427-b5e0-25ca9ee3dc23"
      },
      "execution_count": null,
      "outputs": [
        {
          "output_type": "stream",
          "name": "stdout",
          "text": [
            "Accuracy: 0.48398659766212904\n",
            "FPR: 0.48398659766212904\n",
            "TPR: 0.48398659766212904\n",
            "F-measure: 0.31569426177512633\n",
            "Precision: 0.23424302671656355\n",
            "Recall: 0.48398659766212904\n"
          ]
        }
      ]
    }
  ],
  "metadata": {
    "accelerator": "TPU",
    "colab": {
      "collapsed_sections": [],
      "name": "Pyspark_ANN_MLPC_Sparktorch.ipynb",
      "provenance": [],
      "machine_shape": "hm"
    },
    "gpuClass": "standard",
    "kernelspec": {
      "display_name": "Python 3",
      "name": "python3"
    },
    "language_info": {
      "name": "python"
    }
  },
  "nbformat": 4,
  "nbformat_minor": 0
}